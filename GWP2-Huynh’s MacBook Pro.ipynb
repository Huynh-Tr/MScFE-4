{
 "cells": [
  {
   "cell_type": "markdown",
   "metadata": {},
   "source": [
    "# **STEP1**"
   ]
  },
  {
   "cell_type": "markdown",
   "metadata": {},
   "source": [
    "Team member A will repeat questions 5, 6, and 7 of GWP#1   \n",
    "using the Black-Scholes closed-form solution to price the different European Options.   \n",
    "For Q7 on vega, you can use Black-Scholes closed-form solution."
   ]
  },
  {
   "cell_type": "code",
   "execution_count": 1,
   "metadata": {},
   "outputs": [],
   "source": [
    "import numpy as np\n",
    "from scipy.stats import norm\n",
    "import pandas as pd\n",
    "\n",
    "def BSprice_n_Greeks(S0, K, mu, sigma, T, t, opt='call', yield_rate=0):\n",
    "    dt = T - t\n",
    "    vol = sigma * np.sqrt(dt)\n",
    "    d1 = ( np.log(S0/K) + (mu - yield_rate + 0.5 * sigma**2) * (dt)) / vol\n",
    "    d2 = d1 - sigma * np.sqrt(dt)\n",
    "\n",
    "    if opt == 'call':\n",
    "        price = (S0 * np.exp(-yield_rate * dt) * norm.cdf(d1) \n",
    "                - K * np.exp(-mu * dt) * norm.cdf(d2))\n",
    "        delta = norm.cdf(d1)\n",
    "        vega = S0 * norm.pdf(d1) * np.sqrt(dt) / 100\n",
    "\n",
    "    elif opt == 'put':\n",
    "        price = (K * np.exp(-mu * dt) * norm.cdf(-d2) \n",
    "                - S0 * np.exp(-yield_rate * dt) * norm.cdf(-d1))\n",
    "        delta = -norm.cdf(-d1)\n",
    "        vega = S0 * norm.pdf(d1) * np.sqrt(dt) / 100\n",
    "    \n",
    "    df = pd.DataFrame({f\"price_{opt}\": price, f\"delta_{opt}\": delta, f\"vega_{opt}\": vega}, index=[0])\n",
    "\n",
    "    return df"
   ]
  },
  {
   "cell_type": "markdown",
   "metadata": {},
   "source": [
    "$S_0 = 100; r = 5\\%; σ = 20\\%; T=3months$"
   ]
  },
  {
   "cell_type": "code",
   "execution_count": 2,
   "metadata": {},
   "outputs": [],
   "source": [
    "S0 = 100\n",
    "K = S0 # ATM\n",
    "r = 0.05\n",
    "sigma = 0.2\n",
    "T = 3/12\n",
    "t = 0"
   ]
  },
  {
   "cell_type": "code",
   "execution_count": 3,
   "metadata": {},
   "outputs": [],
   "source": [
    "np.random.seed(0)\n",
    "df_call = BSprice_n_Greeks(S0=S0, K=S0, mu=r, sigma=sigma, \\\n",
    "                                    T=T, t=t, opt='call', yield_rate=0)\n",
    "df_put = BSprice_n_Greeks(S0=S0, K=S0, mu=r, sigma=sigma, \n",
    "                                    T=T, t=t, opt='put', yield_rate=0)"
   ]
  },
  {
   "cell_type": "markdown",
   "metadata": {},
   "source": [
    "**(1)**  \n",
    "Black Scholes Model:  \n",
    "$$\n",
    "\\begin{aligned}\n",
    "d1 &= \\frac{ln(\\frac{S}{K})+(μ-\\frac{σ^2}{2})(T-t)}{σ\\sqrt{T-t}} \\quad & (1) \\\\ \n",
    "d2 &= d1 - σ \\sqrt{T-t} \\quad & (2)     \\\\\n",
    "C_{BS} &= S_0 N(d1) - K e^{-rT} N(d2) \\quad & (3)  \\\\\n",
    "C_{BS} &= K e^{-rT} N(-d2) - S_0 N(-d1) \\quad & (4)  \\\\\n",
    "\\end{aligned}\n",
    "$$\n",
    "\n",
    "With Black Scholes Model, the steps are continuous. So we don't need to choose number of steps.\n",
    "\n",
    "A brief description of the overall process as follows:\n",
    "1. From providing information, we calculate components of the Black Scholes model\n",
    "2. Plug the numbers into d1 and d2 as formula is mentioned (1) and (2) above\n",
    "3. Calculate the value of the **European Call Option** by using the Black Scholes by replacing to (3)\n",
    "4. Next, we could calculate the **European Put Option** by using Put-Call Partiy or (4)\n",
    "5. Lastly, we could calculate the Greeks like delta, gamma, vega, ..."
   ]
  },
  {
   "cell_type": "code",
   "execution_count": 4,
   "metadata": {},
   "outputs": [
    {
     "data": {
      "text/html": [
       "<div>\n",
       "<style scoped>\n",
       "    .dataframe tbody tr th:only-of-type {\n",
       "        vertical-align: middle;\n",
       "    }\n",
       "\n",
       "    .dataframe tbody tr th {\n",
       "        vertical-align: top;\n",
       "    }\n",
       "\n",
       "    .dataframe thead th {\n",
       "        text-align: right;\n",
       "    }\n",
       "</style>\n",
       "<table border=\"1\" class=\"dataframe\">\n",
       "  <thead>\n",
       "    <tr style=\"text-align: right;\">\n",
       "      <th></th>\n",
       "      <th>price_call</th>\n",
       "      <th>delta_call</th>\n",
       "      <th>vega_call</th>\n",
       "    </tr>\n",
       "  </thead>\n",
       "  <tbody>\n",
       "    <tr>\n",
       "      <th>0</th>\n",
       "      <td>4.614997</td>\n",
       "      <td>0.56946</td>\n",
       "      <td>0.19644</td>\n",
       "    </tr>\n",
       "  </tbody>\n",
       "</table>\n",
       "</div>"
      ],
      "text/plain": [
       "   price_call  delta_call  vega_call\n",
       "0    4.614997     0.56946    0.19644"
      ]
     },
     "execution_count": 4,
     "metadata": {},
     "output_type": "execute_result"
    }
   ],
   "source": [
    "df_call"
   ]
  },
  {
   "cell_type": "code",
   "execution_count": 5,
   "metadata": {},
   "outputs": [
    {
     "data": {
      "text/html": [
       "<div>\n",
       "<style scoped>\n",
       "    .dataframe tbody tr th:only-of-type {\n",
       "        vertical-align: middle;\n",
       "    }\n",
       "\n",
       "    .dataframe tbody tr th {\n",
       "        vertical-align: top;\n",
       "    }\n",
       "\n",
       "    .dataframe thead th {\n",
       "        text-align: right;\n",
       "    }\n",
       "</style>\n",
       "<table border=\"1\" class=\"dataframe\">\n",
       "  <thead>\n",
       "    <tr style=\"text-align: right;\">\n",
       "      <th></th>\n",
       "      <th>price_put</th>\n",
       "      <th>delta_put</th>\n",
       "      <th>vega_put</th>\n",
       "    </tr>\n",
       "  </thead>\n",
       "  <tbody>\n",
       "    <tr>\n",
       "      <th>0</th>\n",
       "      <td>3.372777</td>\n",
       "      <td>-0.43054</td>\n",
       "      <td>0.19644</td>\n",
       "    </tr>\n",
       "  </tbody>\n",
       "</table>\n",
       "</div>"
      ],
      "text/plain": [
       "   price_put  delta_put  vega_put\n",
       "0   3.372777   -0.43054   0.19644"
      ]
     },
     "execution_count": 5,
     "metadata": {},
     "output_type": "execute_result"
    }
   ],
   "source": [
    "df_put"
   ]
  },
  {
   "cell_type": "markdown",
   "metadata": {},
   "source": [
    "The calculated price for the ATM European options using Black Scholes model is:\n",
    "* European Call Option Price = **4.61**\n",
    "* European Put Option Price = **3.37**"
   ]
  },
  {
   "cell_type": "markdown",
   "metadata": {},
   "source": [
    "**(6)**  \n",
    "* European Call Option Delta = **0.57**  \n",
    "* European Put Option Delta = **-0.43**  \n",
    "\n",
    "The delta of the European Call Option is positive, while the Delta of the European Put Option is negative. This is consistent with the general behaviour of the options with respect to underlying asset's price movements.\n",
    "\n",
    "Delta primarily act as a proxy for the sensitivity of the option's price to small movements in the underlying asset's price. It essentially indicates how much the price of an option is expected to change for a $1 change in the price of the underlying asset.\n",
    "\n",
    "The positive Delta for the European call option indicates that its value is expected to increase as the underlying asset's price increases. This aligns with the nature of a call option, which provides the right to buy underlying asset. Hence, when the asset's price goes up, the option becomes more valuable.\n",
    "\n",
    "The negative Delta for the European put option indicates that its value is expected to increase as the underlying asset's price decreases. This is consistent with the nature of a put option, which provides the right to sell the underlying asset. Therefore, when the asset's price falls, the option gains value.\n",
    "\n",
    "The signs of Delta for oth options are in line with their respective payoff structures. A call option benefits from upward movements in the underlying asset, while a put option benefits from downward movements . This fundamental difference is reflected in the positive Delta for European calls and negative Delta European puts."
   ]
  },
  {
   "cell_type": "code",
   "execution_count": 6,
   "metadata": {},
   "outputs": [],
   "source": [
    "df_call_25 = BSprice_n_Greeks(S0=S0, K=S0, mu=r, sigma=0.25, \n",
    "                            T=T, t=t, opt='call', yield_rate=0) # sigma = 25%, opt = 'call'\n",
    "df_put_25 = BSprice_n_Greeks(S0=S0, K=S0, mu=r, sigma=0.25, \n",
    "                            T=T, t=t, opt='put', yield_rate=0) # sigma = 25%, opt = 'put'"
   ]
  },
  {
   "cell_type": "code",
   "execution_count": 7,
   "metadata": {},
   "outputs": [
    {
     "data": {
      "text/html": [
       "<div>\n",
       "<style scoped>\n",
       "    .dataframe tbody tr th:only-of-type {\n",
       "        vertical-align: middle;\n",
       "    }\n",
       "\n",
       "    .dataframe tbody tr th {\n",
       "        vertical-align: top;\n",
       "    }\n",
       "\n",
       "    .dataframe thead th {\n",
       "        text-align: right;\n",
       "    }\n",
       "</style>\n",
       "<table border=\"1\" class=\"dataframe\">\n",
       "  <thead>\n",
       "    <tr style=\"text-align: right;\">\n",
       "      <th></th>\n",
       "      <th>price_call</th>\n",
       "      <th>delta_call</th>\n",
       "      <th>vega_call</th>\n",
       "    </tr>\n",
       "  </thead>\n",
       "  <tbody>\n",
       "    <tr>\n",
       "      <th>0</th>\n",
       "      <td>5.5984</td>\n",
       "      <td>0.564544</td>\n",
       "      <td>0.196855</td>\n",
       "    </tr>\n",
       "  </tbody>\n",
       "</table>\n",
       "</div>"
      ],
      "text/plain": [
       "   price_call  delta_call  vega_call\n",
       "0      5.5984    0.564544   0.196855"
      ]
     },
     "execution_count": 7,
     "metadata": {},
     "output_type": "execute_result"
    }
   ],
   "source": [
    "df_call_25"
   ]
  },
  {
   "cell_type": "code",
   "execution_count": 8,
   "metadata": {},
   "outputs": [
    {
     "data": {
      "text/html": [
       "<div>\n",
       "<style scoped>\n",
       "    .dataframe tbody tr th:only-of-type {\n",
       "        vertical-align: middle;\n",
       "    }\n",
       "\n",
       "    .dataframe tbody tr th {\n",
       "        vertical-align: top;\n",
       "    }\n",
       "\n",
       "    .dataframe thead th {\n",
       "        text-align: right;\n",
       "    }\n",
       "</style>\n",
       "<table border=\"1\" class=\"dataframe\">\n",
       "  <thead>\n",
       "    <tr style=\"text-align: right;\">\n",
       "      <th></th>\n",
       "      <th>price_put</th>\n",
       "      <th>delta_put</th>\n",
       "      <th>vega_put</th>\n",
       "    </tr>\n",
       "  </thead>\n",
       "  <tbody>\n",
       "    <tr>\n",
       "      <th>0</th>\n",
       "      <td>4.35618</td>\n",
       "      <td>-0.435456</td>\n",
       "      <td>0.196855</td>\n",
       "    </tr>\n",
       "  </tbody>\n",
       "</table>\n",
       "</div>"
      ],
      "text/plain": [
       "   price_put  delta_put  vega_put\n",
       "0    4.35618  -0.435456  0.196855"
      ]
     },
     "execution_count": 8,
     "metadata": {},
     "output_type": "execute_result"
    }
   ],
   "source": [
    "df_put_25"
   ]
  },
  {
   "cell_type": "code",
   "execution_count": 23,
   "metadata": {},
   "outputs": [
    {
     "name": "stdout",
     "output_type": "stream",
     "text": [
      "Change call price respect to change of volatility: 0.20\n",
      "Change put price respect to change of volatility: 0.20\n"
     ]
    }
   ],
   "source": [
    "callprice_change = (df_call_25.price_call - df_call.price_call) / (0.25 - 0.2) / 100\n",
    "putprice_change = (df_put_25.price_put - df_put.price_put) / (0.25 - 0.2) / 100\n",
    "print(f\"Change call price respect to change of volatility: {callprice_change[0]:.2f}\")\n",
    "print(f\"Change put price respect to change of volatility: {putprice_change[0]:.2f}\")"
   ]
  },
  {
   "cell_type": "markdown",
   "metadata": {},
   "source": [
    "European Call Option\n",
    "* New price with 25% volatility : 5.60\n",
    "* Increase in Price (Vega for European Call) : 0.20\n",
    "\n",
    "European Put Option\n",
    "* New price with 25% volatility : 4.36\n",
    "* Increase in Price(Vega for European Put) : 0.20\n",
    "\n",
    "Both the European call and put option prices increased with the rise in volatility. The increase was approximately **0.20** for both options for each increasing percentage. This indicates that both call and put options become more valuable as the uncertainty or volatility in the underlying asset increases.\n",
    "\n",
    "**Vega**, the sensitivity of option prices to volatility, is always positive for both call and put options. This is because increased volatility leads to greater uncertainty and a higher chance of the option ending in-the-money, which in turn increases the option's value.\n",
    "\n",
    "The impact of the increase in volatility was similar for both the call and put options. This is often the case for at-the-money options. Both types of options benefit from increased volatility because it increases the probability of significant price movemeents, either up or down, which can be advantages for option holders.\n",
    "\n",
    "But note that while the numerical impact was similar, the context differs. For the call option, higher volatility increases the potential for upside movements, making the right to buy more valuable. For the put option, higher volatility amplifies the potential for downside movements, making the right to sell more valuable."
   ]
  },
  {
   "cell_type": "markdown",
   "metadata": {},
   "source": [
    "# **STEP2**"
   ]
  },
  {
   "cell_type": "markdown",
   "metadata": {},
   "source": [
    "In step 2, you will still work with the input data from questions from 5, 6, and 7 from GWP#1, in this case for American derivatives. Specifically  \n",
    "4. **Team member A** will use Monte-Carlo methods with regular GBM process and daily simulations on an American Call option. Remember to answer the different questions in the original GWP#1:  \n",
    "price (Q5),  \n",
    "calculate delta (Q6) and  \n",
    "vega (Q7) only for the Call option case."
   ]
  },
  {
   "cell_type": "code",
   "execution_count": 22,
   "metadata": {},
   "outputs": [
    {
     "name": "stdout",
     "output_type": "stream",
     "text": [
      "3.4486638634945637\n",
      "-0.4801527596559194\n",
      "19.04169304710157\n"
     ]
    }
   ],
   "source": [
    "import numpy as np\n",
    "\n",
    "class AmericanOption_MC(object):\n",
    "    \"\"\"\n",
    "    Class for the American model using Longstaff-Schwartz (2001)\n",
    "    S0: Stock price \n",
    "    K: Strike price\n",
    "    mu: interest rate\n",
    "    sigma: volatility\n",
    "    T: time to maturity\n",
    "    M: steps to maturity\n",
    "    opt: option type \"call\" or \"put\"\n",
    "    Ite: Iterations\n",
    "    \"\"\"\n",
    "    def __init__(self, S0, K, r, sigma, T, M, opt, Ite):\n",
    "    \n",
    "        try:\n",
    "            self.S0 = float(S0)\n",
    "            self.K = float(K)\n",
    "            # assert mu >= 0\n",
    "            self.r = float(r)\n",
    "            assert sigma >= 0\n",
    "            self.sigma = float(sigma)\n",
    "            assert T >= 0\n",
    "            self.T = float(T)\n",
    "            assert M >= 0\n",
    "            self.M = int(M)\n",
    "            assert isinstance(opt, str)\n",
    "            self.opt = opt\n",
    "            assert Ite > 0\n",
    "            self.Ite = int(Ite)\n",
    "        except ValueError:\n",
    "            print(\"Please values agian\")\n",
    "\n",
    "        self.dt = self.T/float(self.M)\n",
    "        self.discount = np.exp(-self.r * self.dt)\n",
    "\n",
    "    @property\n",
    "    def MCprice_matrix(self, seed = 42):\n",
    "\n",
    "        np.random.seed(seed)\n",
    "        MCprice_matrix = np.zeros((self.M + 1, self.Ite), dtype=np.float64)\n",
    "        MCprice_matrix[0, :] = self.S0\n",
    "        for t in range(1, self.M + 1):\n",
    "            z = np.random.standard_normal(int(self.Ite / 2) )\n",
    "            z = np.concatenate((z, -z))\n",
    "            MCprice_matrix[t, :] = (MCprice_matrix[t-1, :]\n",
    "                                    * np.exp((self.r - self.sigma ** 2 / 2.) * self.dt\n",
    "                                    + z * self.sigma * np.sqrt(self.dt)))\n",
    "\n",
    "        return MCprice_matrix\n",
    "\n",
    "    @property\n",
    "    def payoff(self):\n",
    "      \n",
    "        if self.opt == 'call':\n",
    "            payoff = np.maximum(self.MCprice_matrix - self.K, \n",
    "                                np.zeros((self.M + 1, self.Ite), dtype=np.float64))\n",
    "        else:\n",
    "            payoff = np.maximum(self.K - self.MCprice_matrix, \n",
    "                                np.zeros((self.M + 1, self.Ite), dtype=np.float64))\n",
    "        return payoff\n",
    "\n",
    "    @property\n",
    "    def MCprice(self):\n",
    "        value_matrix = np.zeros_like(self.payoff)\n",
    "        value_matrix[-1, :] = self.payoff[-1, :]\n",
    "        for t in range(self.M - 1, 0, -1):\n",
    "            reg = np.polyfit(self.MCprice_matrix[t, :], value_matrix[t+1, :] * self.discount, deg=5)\n",
    "            continuous_value = np.polyval(reg, self.MCprice_matrix[t, :])\n",
    "            value_matrix[t, :] = np.where(\n",
    "                self.payoff[t, :] > continuous_value,\n",
    "                self.payoff[t, :],\n",
    "                value_matrix[t + 1, :] * self.discount\n",
    "            )\n",
    "        return value_matrix[1, :] * self.discount\n",
    "\n",
    "    @property\n",
    "    def price(self):\n",
    "        return np.sum(self.MCprice) / float(self.Ite)\n",
    "\n",
    "    @property\n",
    "    def delta(self):\n",
    "        diff = self.S0 * 0.01\n",
    "        myCall_1 = AmericanOption_MC(self.S0 + diff, self.K, self.r, \n",
    "                    self.sigma, self.T, self.M, self.opt, self.Ite)\n",
    "        myCall_2 = AmericanOption_MC(self.S0 - diff, self.K, self.r, \n",
    "                    self.sigma, self.T, self.M, self.opt, self.Ite)\n",
    "        return (myCall_1.price - myCall_2.price) / float(2. * diff)\n",
    " \n",
    "    @property\n",
    "    def vega(self):\n",
    "        diff = self.sigma * 0.01\n",
    "        my_Call1 = AmericanOption_MC(self.S0, self.K, self.r, \n",
    "                  self.sigma + diff, self.T, self.M, self.opt, self.Ite)\n",
    "        my_Call2 = AmericanOption_MC(self.S0, self.K, self.r, \n",
    "                  self.sigma - diff, self.T, self.M, self.opt, self.Ite)\n",
    "        \n",
    "        return (my_Call1.price - my_Call2.price) / float(2 * diff)\n",
    "\n",
    "S0 = 100\n",
    "K = S0 # ATM\n",
    "r = 0.05\n",
    "sigma = 0.2\n",
    "T = 3/12\n",
    "t = 0\n",
    "M = 90\n",
    "opt = 'put'\n",
    "Ite = 5000\n",
    "\n",
    "AmericanOptionMC = AmericanOption_MC(S0=S0, K=K, r=r, sigma=sigma, T=T, M=M, opt=opt, Ite=Ite)\n",
    "\n",
    "print(AmericanOptionMC.price) \n",
    "print(AmericanOptionMC.delta)\n",
    "print(AmericanOptionMC.vega)"
   ]
  },
  {
   "cell_type": "markdown",
   "metadata": {},
   "source": [
    "The American Call Option for using Monte Carlo simulations is: **4.47**"
   ]
  },
  {
   "cell_type": "markdown",
   "metadata": {},
   "source": [
    "# **STEP3**"
   ]
  },
  {
   "cell_type": "markdown",
   "metadata": {},
   "source": [
    "**Team member A** will work with European options with same characteristics as GWP#1 under different levels of moneyness:  \n",
    "a. Price an European Call option with 110% moneyness and an European Put with 95% moneyness using Black-Scholes. Both have 3 months maturity.  "
   ]
  },
  {
   "cell_type": "code",
   "execution_count": 40,
   "metadata": {},
   "outputs": [
    {
     "data": {
      "text/html": [
       "<div>\n",
       "<style scoped>\n",
       "    .dataframe tbody tr th:only-of-type {\n",
       "        vertical-align: middle;\n",
       "    }\n",
       "\n",
       "    .dataframe tbody tr th {\n",
       "        vertical-align: top;\n",
       "    }\n",
       "\n",
       "    .dataframe thead th {\n",
       "        text-align: right;\n",
       "    }\n",
       "</style>\n",
       "<table border=\"1\" class=\"dataframe\">\n",
       "  <thead>\n",
       "    <tr style=\"text-align: right;\">\n",
       "      <th></th>\n",
       "      <th>price_call</th>\n",
       "      <th>delta_call</th>\n",
       "      <th>vega_call</th>\n",
       "    </tr>\n",
       "  </thead>\n",
       "  <tbody>\n",
       "    <tr>\n",
       "      <th>0</th>\n",
       "      <td>11.670087</td>\n",
       "      <td>0.89039</td>\n",
       "      <td>0.093778</td>\n",
       "    </tr>\n",
       "  </tbody>\n",
       "</table>\n",
       "</div>"
      ],
      "text/plain": [
       "   price_call  delta_call  vega_call\n",
       "0   11.670087     0.89039   0.093778"
      ]
     },
     "execution_count": 40,
     "metadata": {},
     "output_type": "execute_result"
    }
   ],
   "source": [
    "S0 = 100\n",
    "K = 90 # 110% moneyness\n",
    "r = 0.05\n",
    "sigma = 0.2\n",
    "T = 3/12\n",
    "t = 0\n",
    "opt = 'call'\n",
    "\n",
    "BSprice_n_Greeks(S0=S0, K=K, mu=r, sigma=sigma, T=T, t=t, opt=opt)"
   ]
  },
  {
   "cell_type": "code",
   "execution_count": 41,
   "metadata": {},
   "outputs": [
    {
     "data": {
      "text/html": [
       "<div>\n",
       "<style scoped>\n",
       "    .dataframe tbody tr th:only-of-type {\n",
       "        vertical-align: middle;\n",
       "    }\n",
       "\n",
       "    .dataframe tbody tr th {\n",
       "        vertical-align: top;\n",
       "    }\n",
       "\n",
       "    .dataframe thead th {\n",
       "        text-align: right;\n",
       "    }\n",
       "</style>\n",
       "<table border=\"1\" class=\"dataframe\">\n",
       "  <thead>\n",
       "    <tr style=\"text-align: right;\">\n",
       "      <th></th>\n",
       "      <th>price_put</th>\n",
       "      <th>delta_put</th>\n",
       "      <th>vega_put</th>\n",
       "    </tr>\n",
       "  </thead>\n",
       "  <tbody>\n",
       "    <tr>\n",
       "      <th>0</th>\n",
       "      <td>6.173571</td>\n",
       "      <td>-0.622822</td>\n",
       "      <td>0.189941</td>\n",
       "    </tr>\n",
       "  </tbody>\n",
       "</table>\n",
       "</div>"
      ],
      "text/plain": [
       "   price_put  delta_put  vega_put\n",
       "0   6.173571  -0.622822  0.189941"
      ]
     },
     "execution_count": 41,
     "metadata": {},
     "output_type": "execute_result"
    }
   ],
   "source": [
    "S0 = 100\n",
    "K = 105 # 95% moneyness\n",
    "r = 0.05\n",
    "sigma = 0.2\n",
    "T = 3/12\n",
    "t = 0\n",
    "opt = 'put'\n",
    "\n",
    "BSprice_n_Greeks(S0=S0, K=K, mu=r, sigma=sigma, T=T, t=t, opt=opt)"
   ]
  },
  {
   "cell_type": "markdown",
   "metadata": {},
   "source": [
    "b. You build a portfolio that buys the previous Call and Put options. What is the delta of the portfolio? How would you delta-hedge this portfolio?  "
   ]
  },
  {
   "cell_type": "code",
   "execution_count": 34,
   "metadata": {},
   "outputs": [],
   "source": [
    "import numpy as np\n",
    "from scipy.stats import norm\n",
    "import pandas as pd\n",
    "\n",
    "def Portfolio_Long_Long(S0, K_call, K_put, mu, sigma, T, t, yield_rate=0):\n",
    "    dt = T - t\n",
    "    vol = sigma * np.sqrt(dt)\n",
    "\n",
    "    # long call    \n",
    "    d1_call = ( np.log(S0/K_call) + (mu - yield_rate + 0.5 * sigma**2) * (dt)) / vol\n",
    "    d2_call = d1_call - sigma * np.sqrt(dt)\n",
    "    price_call = (S0 * np.exp(-yield_rate * dt) * norm.cdf(d1_call) \n",
    "                - K_call * np.exp(-mu * dt) * norm.cdf(d2_call))\n",
    "    delta_call = norm.cdf(d1_call)\n",
    "\n",
    "    # long put\n",
    "    d1_put = ( np.log(S0/K_put) + (mu - yield_rate + 0.5 * sigma**2) * (dt)) / vol\n",
    "    d2_put = d1_put - sigma * np.sqrt(dt)\n",
    "    price_put = (K_put * np.exp(-mu * dt) * norm.cdf(-d2_put) \n",
    "                - S0 * np.exp(-yield_rate * dt) * norm.cdf(-d1_put))\n",
    "    delta_put = -norm.cdf(-d1_put)\n",
    "\n",
    "    # long call + long put\n",
    "    price = price_call + price_put\n",
    "    delta = delta_call + delta_put\n",
    "    \n",
    "    df = pd.DataFrame({f\"price_portfolio\": price, f\"delta_portfolio\": delta}, index=[0])\n",
    "    \n",
    "    return df"
   ]
  },
  {
   "cell_type": "code",
   "execution_count": 35,
   "metadata": {},
   "outputs": [
    {
     "data": {
      "text/html": [
       "<div>\n",
       "<style scoped>\n",
       "    .dataframe tbody tr th:only-of-type {\n",
       "        vertical-align: middle;\n",
       "    }\n",
       "\n",
       "    .dataframe tbody tr th {\n",
       "        vertical-align: top;\n",
       "    }\n",
       "\n",
       "    .dataframe thead th {\n",
       "        text-align: right;\n",
       "    }\n",
       "</style>\n",
       "<table border=\"1\" class=\"dataframe\">\n",
       "  <thead>\n",
       "    <tr style=\"text-align: right;\">\n",
       "      <th></th>\n",
       "      <th>price_portfolio</th>\n",
       "      <th>delta_portfolio</th>\n",
       "    </tr>\n",
       "  </thead>\n",
       "  <tbody>\n",
       "    <tr>\n",
       "      <th>0</th>\n",
       "      <td>15.669729</td>\n",
       "      <td>0.126518</td>\n",
       "    </tr>\n",
       "  </tbody>\n",
       "</table>\n",
       "</div>"
      ],
      "text/plain": [
       "   price_portfolio  delta_portfolio\n",
       "0        15.669729         0.126518"
      ]
     },
     "execution_count": 35,
     "metadata": {},
     "output_type": "execute_result"
    }
   ],
   "source": [
    "S0 = 100\n",
    "K_call = 95\n",
    "K_put = 105\n",
    "r = 0.05\n",
    "sigma = 0.2\n",
    "T = 3/12\n",
    "t = 0\n",
    "\n",
    "LongCall_LongPut = Portfolio_Long_Long(S0=S0, K_call=K_call, K_put=K_put, mu=r, sigma=0.25, \n",
    "                            T=T, t=t, yield_rate=0)\n",
    "\n",
    "LongCall_LongPut"
   ]
  },
  {
   "cell_type": "code",
   "execution_count": 38,
   "metadata": {},
   "outputs": [
    {
     "data": {
      "text/html": [
       "<div>\n",
       "<style scoped>\n",
       "    .dataframe tbody tr th:only-of-type {\n",
       "        vertical-align: middle;\n",
       "    }\n",
       "\n",
       "    .dataframe tbody tr th {\n",
       "        vertical-align: top;\n",
       "    }\n",
       "\n",
       "    .dataframe thead th {\n",
       "        text-align: right;\n",
       "    }\n",
       "</style>\n",
       "<table border=\"1\" class=\"dataframe\">\n",
       "  <thead>\n",
       "    <tr style=\"text-align: right;\">\n",
       "      <th></th>\n",
       "      <th>price_portfolio</th>\n",
       "      <th>delta_portfolio</th>\n",
       "    </tr>\n",
       "  </thead>\n",
       "  <tbody>\n",
       "    <tr>\n",
       "      <th>0</th>\n",
       "      <td>24.293683</td>\n",
       "      <td>-0.865243</td>\n",
       "    </tr>\n",
       "    <tr>\n",
       "      <th>1</th>\n",
       "      <td>23.441154</td>\n",
       "      <td>-0.839293</td>\n",
       "    </tr>\n",
       "    <tr>\n",
       "      <th>2</th>\n",
       "      <td>22.616158</td>\n",
       "      <td>-0.810161</td>\n",
       "    </tr>\n",
       "    <tr>\n",
       "      <th>3</th>\n",
       "      <td>21.821916</td>\n",
       "      <td>-0.777779</td>\n",
       "    </tr>\n",
       "    <tr>\n",
       "      <th>4</th>\n",
       "      <td>21.061692</td>\n",
       "      <td>-0.742124</td>\n",
       "    </tr>\n",
       "  </tbody>\n",
       "</table>\n",
       "</div>"
      ],
      "text/plain": [
       "   price_portfolio  delta_portfolio\n",
       "0        24.293683        -0.865243\n",
       "1        23.441154        -0.839293\n",
       "2        22.616158        -0.810161\n",
       "3        21.821916        -0.777779\n",
       "4        21.061692        -0.742124"
      ]
     },
     "execution_count": 38,
     "metadata": {},
     "output_type": "execute_result"
    }
   ],
   "source": [
    "LongLong = pd.DataFrame()\n",
    "\n",
    "for i in range(80,120):\n",
    "    LongCall_LongPut = Portfolio_Long_Long(S0=i, K_call=K_call, K_put=K_put, mu=r, sigma=0.25, \n",
    "                            T=T, t=t, yield_rate=0)\n",
    "    LongLong = pd.concat((LongLong, LongCall_LongPut), ignore_index=True)\n",
    "\n",
    "LongLong.head()"
   ]
  },
  {
   "cell_type": "code",
   "execution_count": 47,
   "metadata": {},
   "outputs": [
    {
     "data": {
      "image/png": "[encoded data removed]",
      "text/plain": [
       "<Figure size 1200x600 with 2 Axes>"
      ]
     },
     "metadata": {},
     "output_type": "display_data"
    }
   ],
   "source": [
    "import matplotlib.pyplot as plt\n",
    "\n",
    "fig, [ax1, ax2] = plt.subplots(ncols=2, nrows=1, figsize=(12,6))\n",
    "\n",
    "ax1.plot(np.arange(80,120), LongLong.price_portfolio);\n",
    "ax2.plot(np.arange(80,120), LongLong.delta_portfolio);"
   ]
  },
  {
   "cell_type": "code",
   "execution_count": null,
   "metadata": {},
   "outputs": [],
   "source": []
  },
  {
   "cell_type": "markdown",
   "metadata": {},
   "source": [
    "c. You build a second portfolio that buys the previous Call option and sells the Put. What is the delta of the portfolio? How would you delta-hedge this portfolio?"
   ]
  },
  {
   "cell_type": "code",
   "execution_count": 16,
   "metadata": {},
   "outputs": [],
   "source": [
    "import numpy as np\n",
    "from scipy.stats import norm\n",
    "import pandas as pd\n",
    "\n",
    "def Portfolio_Long_Short(S0, K_call, K_put, mu, sigma, T, t, yield_rate=0):\n",
    "    dt = T - t\n",
    "    vol = sigma * np.sqrt(dt)\n",
    "\n",
    "    # long call    \n",
    "    d1_call = ( np.log(S0/K_call) + (mu - yield_rate + 0.5 * sigma**2) * (dt)) / vol\n",
    "    d2_call = d1_call - sigma * np.sqrt(dt)\n",
    "    price_call = (S0 * np.exp(-yield_rate * dt) * norm.cdf(d1_call) \n",
    "                - K_call * np.exp(-mu * dt) * norm.cdf(d2_call))\n",
    "    delta_call = norm.cdf(d1_call)\n",
    "\n",
    "    # short put\n",
    "    d1_put = ( np.log(S0/K_put) + (mu - yield_rate + 0.5 * sigma**2) * (dt)) / vol\n",
    "    d2_put = d1_put - sigma * np.sqrt(dt)\n",
    "    price_put = - (K_put * np.exp(-mu * dt) * norm.cdf(-d2_put) \n",
    "                - S0 * np.exp(-yield_rate * dt) * norm.cdf(-d1_put))\n",
    "    delta_put = norm.cdf(-d1_put)\n",
    "\n",
    "    # long call + short put\n",
    "    price = price_call + price_put\n",
    "    delta = delta_call + delta_put\n",
    "    \n",
    "    df = pd.DataFrame({f\"price_portfolio\": price, f\"delta_portfolio\": delta}, index=[0])\n",
    "    \n",
    "    return df"
   ]
  },
  {
   "cell_type": "code",
   "execution_count": 23,
   "metadata": {},
   "outputs": [
    {
     "data": {
      "text/html": [
       "<div>\n",
       "<style scoped>\n",
       "    .dataframe tbody tr th:only-of-type {\n",
       "        vertical-align: middle;\n",
       "    }\n",
       "\n",
       "    .dataframe tbody tr th {\n",
       "        vertical-align: top;\n",
       "    }\n",
       "\n",
       "    .dataframe thead th {\n",
       "        text-align: right;\n",
       "    }\n",
       "</style>\n",
       "<table border=\"1\" class=\"dataframe\">\n",
       "  <thead>\n",
       "    <tr style=\"text-align: right;\">\n",
       "      <th></th>\n",
       "      <th>price_portfolio</th>\n",
       "      <th>delta_portfolio</th>\n",
       "    </tr>\n",
       "  </thead>\n",
       "  <tbody>\n",
       "    <tr>\n",
       "      <th>0</th>\n",
       "      <td>1.398602</td>\n",
       "      <td>1.306733</td>\n",
       "    </tr>\n",
       "  </tbody>\n",
       "</table>\n",
       "</div>"
      ],
      "text/plain": [
       "   price_portfolio  delta_portfolio\n",
       "0         1.398602         1.306733"
      ]
     },
     "execution_count": 23,
     "metadata": {},
     "output_type": "execute_result"
    }
   ],
   "source": [
    "S0 = 100\n",
    "K_call = 95\n",
    "K_put = 105\n",
    "r = 0.05\n",
    "sigma = 0.2\n",
    "T = 3/12\n",
    "t = 0\n",
    "\n",
    "LongCall_ShortPut = Portfolio_Long_Short(S0=S0, K_call=K_call, K_put=K_put, mu=r, sigma=0.25, \n",
    "                            T=T, t=t, yield_rate=0)\n",
    "\n",
    "LongCall_ShortPut"
   ]
  },
  {
   "cell_type": "code",
   "execution_count": 49,
   "metadata": {},
   "outputs": [
    {
     "data": {
      "image/png": "[encoded data removed]",
      "text/plain": [
       "<Figure size 1200x600 with 2 Axes>"
      ]
     },
     "metadata": {},
     "output_type": "display_data"
    }
   ],
   "source": [
    "LongShort = pd.DataFrame()\n",
    "\n",
    "for i in range(80,120):\n",
    "    LongCall_ShortPut = Portfolio_Long_Short(S0=i, K_call=K_call, K_put=K_put, mu=r, sigma=0.25, \n",
    "                            T=T, t=t, yield_rate=0)\n",
    "    LongShort = pd.concat((LongShort, LongCall_ShortPut), ignore_index=True)\n",
    "\n",
    "LongShort.head()\n",
    "\n",
    "fig, [ax1, ax2] = plt.subplots(ncols=2, nrows=1, figsize=(12,6))\n",
    "\n",
    "ax1.plot(np.arange(80,120), LongShort.price_portfolio);\n",
    "ax2.plot(np.arange(80,120), LongShort.delta_portfolio);"
   ]
  }
 ],
 "metadata": {
  "kernelspec": {
   "display_name": "Python 3",
   "language": "python",
   "name": "python3"
  },
  "language_info": {
   "codemirror_mode": {
    "name": "ipython",
    "version": 3
   },
   "file_extension": ".py",
   "mimetype": "text/x-python",
   "name": "python",
   "nbconvert_exporter": "python",
   "pygments_lexer": "ipython3",
   "version": "3.11.3"
  }
 },
 "nbformat": 4,
 "nbformat_minor": 2
}
