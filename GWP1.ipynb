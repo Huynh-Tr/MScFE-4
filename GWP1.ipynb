{
  "nbformat": 4,
  "nbformat_minor": 0,
  "metadata": {
    "colab": {
      "provenance": []
    },
    "kernelspec": {
      "name": "python3",
      "display_name": "Python 3"
    },
    "language_info": {
      "name": "python"
    }
  },
  "cells": [
    {
      "cell_type": "markdown",
      "source": [
        "#**Group 4330**"
      ],
      "metadata": {
        "id": "LuCpZaA92_2o"
      }
    },
    {
      "cell_type": "markdown",
      "source": [
        "##**Step1**"
      ],
      "metadata": {
        "id": "be25mSi9KHkn"
      }
    },
    {
      "cell_type": "markdown",
      "source": [
        "First we will start to define and answer on Put - Call Parity in the context of binomial trees model.\n",
        "\n",
        "**(1)** Indeed, the principle of put-call parity is applicable to European options. Within the framework of the binomial tree model, the validity of put-call parity is upheld. This is because the model is built on the premise of no arbitrage and perfectly fluid markets. The formaula representing put-call parity for European options is:\n",
        "\n",
        "  C - P = $S_0$ - K$e^{-rT}$\n",
        "\n",
        "  where:\n",
        "\n",
        "  C is the price of European call option.\n",
        "\n",
        "  P is the price of the European put option.\n",
        "\n",
        "  $S_0$ is the current price of the underlying asset.\n",
        "\n",
        "  K is the strike price.\n",
        "\n",
        "  r is the risk-free interest rate and\n",
        "\n",
        "  T is the time to expiration.\n",
        "\n",
        "  This relationship is derived under the assumption that the options are European, meaning they can only be exercised at expiration. The binomial tree model respects this relationship as it prices options at each node base on the possible up and down movements of the underlying asset, and the no-arbitrage principle ensures that put-call parity is maintained. In market efficiency theory, market prices do not have opportunity for riskless profit, or arbitrages except transaction costs. Under no arbitrage, identical assets trade at the same time should have the same price at different places."
      ],
      "metadata": {
        "id": "EgoVlY3kWOdM"
      }
    },
    {
      "cell_type": "markdown",
      "source": [
        "**(2)** Here we will rewrite the put-call parity equation to solve for the call price(C) in terms of everything else, we can arrange the standard put-call equation for European options as follow:\n",
        "\n",
        "C = P + $S_0$ - K$e^{-rT}$\n",
        "\n",
        "Here, the price of the European call option (C) can be expressed in terms of the price of the European put option (P), the current price of the underlying asset ($S_0$), the strike price (K), the risk-free interest rate (r) and the time to expiration (T)."
      ],
      "metadata": {
        "id": "3RT4frBnoG9a"
      }
    },
    {
      "cell_type": "markdown",
      "source": [
        "**(3)** Next, we will rewrite the put-call parity equation to solve for the put price (P) in terms of everything else, we can rearrange the standard put-call parity equation for European optons as follow:\n",
        "\n",
        "P = C - $S_0$ + K$e^{-rT}$\n",
        "\n",
        "So, the price of the European put option (P), can be expressed in terms of the price of the European call option (C), the current price of the underlying asset ($S_0$), the strike price (K), the risk-free interest rate (r), and the time to expiration (T)."
      ],
      "metadata": {
        "id": "TV5P5sRwptqq"
      }
    },
    {
      "cell_type": "markdown",
      "source": [
        "**(4)** Put-call parity **DOES NOT** directly apply for American options. This is because American options allow early exercise before maturity.\n",
        "\n",
        "So,there can be an early exercise premium that affects the put and call prices.\n",
        "\n",
        "Specifically, American call options are rarely exercised early but American put options may be exercised if the stock price falls below the strke price.\n",
        "\n",
        "This means that put option can take on additional value from the early exercise feature, violating the put-call parity relationship.\n",
        "\n",
        "So, while the put-call parity gives a boundary condition for American option prices, the early exercise premium means the pricing relationship does not directly hold."
      ],
      "metadata": {
        "id": "8fpiRRooruUH"
      }
    },
    {
      "cell_type": "code",
      "source": [
        "#Import necessary libraries\n",
        "from scipy.stats import norm\n",
        "import numpy as np\n",
        "import matplotlib.pyplot as plt"
      ],
      "metadata": {
        "id": "y-6APNyvM0UO"
      },
      "execution_count": null,
      "outputs": []
    },
    {
      "cell_type": "markdown",
      "source": [
        "## Saw Sha Plaw Law ."
      ],
      "metadata": {
        "id": "6ylut3PRU6Kl"
      }
    },
    {
      "cell_type": "markdown",
      "source": [
        "**(5)** Here we will work on European calls and puts using a binomial tree. We are given that $S_0$ = 100, r = 5%, $\\sigma$ = 20%, T = 3 months.\n",
        "\n",
        "For ATM options, the strike price K is equal to the initial stock price $S_0$, which is 100.\n",
        "\n",
        "For this European call and put options, we will use N = 50 steps, which is a common choice for short-term options(3 months in this case) and provides a good balance between accuracy and computational efficiency. Moreover, as the number of steps increases, the binomial model tends to converge towards the Black-Scholes model, 50 steps are generally enough to get close to this convergence.\n",
        "\n",
        "A brief discussion for overall process as follow:\n",
        "\n",
        "(a) We will construct a binomial tree for the underlying stock price. The tree is built using upward and downward movement factors(u and d), which are derived from volatility ($\\sigma$).\n",
        "\n",
        "(b) For each final node in the tree, we calculate the payoff of the call and put options. For a call, it is max(S - K, 0) and for a put, max(K - S, 0).\n",
        "\n",
        "(c) Starting from the final nodes, we calculate the option value at each preceding node base on risk-neutral probabilities. This is done until the initial node is reached.\n",
        "\n",
        "(d) We calculate the Delta at each node, representing the sensitivity of the option price to small changes in the underlying asset's price.\n",
        "\n",
        "Next, we will write a function to compute the European Call and Put options. The following codes will do exactly that.\n",
        "\n",
        "\n",
        "\n"
      ],
      "metadata": {
        "id": "sghLQ0HMuSbj"
      }
    },
    {
      "cell_type": "code",
      "source": [
        "#here we will define function for european call option\n",
        "\n",
        "def call_option_price_delta(S_ini, K, T, r, sigma, N):\n",
        "  dt = T/N #here we define time stamp\n",
        "  u = np.exp(sigma * np.sqrt(dt)) #here we define upward factor\n",
        "  d = np.exp(-sigma * np.sqrt(dt)) #here we define downward factor\n",
        "  p = (np.exp(r * dt) - d) / (u -d) #here we define riks-neutral probabilities\n",
        "  C = np.zeros([N + 1, N + 1]) #here we initialize array for call option prices\n",
        "  S = np.zeros([N+1, N+1]) #here we initialize array for underlying stock prices\n",
        "  Delta = np.zeros([N,N]) #here we initialize array for Delta\n",
        "\n",
        "  #here we calculate the call option values and stock prices at maturity\n",
        "\n",
        "  for i in range (0, N+1):\n",
        "    C[N,i] = max(S_ini * (u ** (i)) * (d ** (N - i)) - K, 0)\n",
        "    S[N,i] = S_ini * (u ** i) * (d ** (N - 1))\n",
        "\n",
        "  #here we perfrom backward induction to calculate option values at each node\n",
        "\n",
        "  for j in range(N - 1, -1, -1):\n",
        "    for i in range(0, j + 1):\n",
        "      C[j,i] = np.exp(-r * dt) * (p * C[j+1, i+1] + (1-p) * C[j+1, i])\n",
        "      S[j,i] = S_ini * ( u ** i) * (d ** (j - i))\n",
        "      Delta[j,i] = (C[j+1, i+1] - C[j+1, i]) / (S[j+1, i + 1] - S[j+1, i])\n",
        "\n",
        "  return C[0,0], C, S, Delta\n",
        "\n",
        "#Given parameters\n",
        "\n",
        "S_0 = 100 #initial stock price\n",
        "r = 0.05 #risk free rate\n",
        "sigma = 0.20 #volatility\n",
        "T = 3 / 12 #Time to maturity in years (3 months)\n",
        "K = S_0 #ATM options, so strike price equals initial stock price\n",
        "N = 50 # Number of steps in the binomial tree\n",
        "\n",
        "#calculate the European call option prie and Delta\n",
        "\n",
        "european_call_price, _, _, european_call_delta = call_option_price_delta(S_0, K, T, r, sigma, N)\n",
        "\n"
      ],
      "metadata": {
        "id": "KOtUxJNRNbHK"
      },
      "execution_count": null,
      "outputs": []
    },
    {
      "cell_type": "code",
      "source": [
        "#next we will calculate European put option\n",
        "\n",
        "def put_option_price_delta(S_ini, K, T, r, sigma, N):\n",
        "  dt = T/N #here we define time stamp\n",
        "  u = np.exp(sigma * np.sqrt(dt)) #here we define upward factor\n",
        "  d = np.exp(-sigma * np.sqrt(dt)) #here we define downward factor\n",
        "  p = (np.exp(r * dt) - d) / (u -d) #here we define riks-neutral probabilities\n",
        "  P = np.zeros([N + 1, N + 1]) #here we initialize array for put option prices\n",
        "  S = np.zeros([N+1, N+1]) #here we initialize array for underlying stock prices\n",
        "  Delta = np.zeros([N,N]) #here we initialize array for Delta\n",
        "\n",
        "  #calculate put option values and stock prices at maturity\n",
        "\n",
        "  for i in range(0, N + 1):\n",
        "    S[N,i] = S_ini * (u ** i) * (d ** (N - i))\n",
        "    P[N,i] = max(K - S[N,i], 0)\n",
        "\n",
        "  #backward induction to calculate option values at each node\n",
        "\n",
        "  for j in range(N - 1, -1, -1):\n",
        "    for i in range(0, j + 1):\n",
        "      P[j,i] = np.exp(-r * dt) * (p * P[j + 1, i + 1] + (1 - p) * P[j + 1, i])\n",
        "      S[j,i] = S_ini * (u ** i) * (d ** (j - i))\n",
        "      Delta[j, i] = (P[j + 1, i + 1] - P[j + 1, i]) / (S[j + 1, i + 1] - S[j + 1, i])\n",
        "\n",
        "  return P[0, 0], P, S , Delta\n",
        "\n",
        "#here we will calculate European put option price and Delta\n",
        "\n",
        "european_put_price, _, _, european_put_delta = put_option_price_delta(S_0, K, T, r, sigma, N)\n",
        "\n"
      ],
      "metadata": {
        "id": "UZHn-cZ_rpbh"
      },
      "execution_count": null,
      "outputs": []
    },
    {
      "cell_type": "markdown",
      "source": [
        "In the following codes, we will try to check put-call parity."
      ],
      "metadata": {
        "id": "c6fqcpt0AlTU"
      }
    },
    {
      "cell_type": "code",
      "source": [
        "#here we will round European option prices to nearest cent\n",
        "\n",
        "european_call_price_rounded = round(european_call_price, 2)\n",
        "european_put_price_rounded = round(european_put_price, 2)\n",
        "\n",
        "#here we will check put-call parity : C - P = S_0 - Ke^(-rT)\n",
        "\n",
        "european_put_call_parity_right_hand_side = S_0 - K * np.exp(-r * T)\n",
        "european_put_call_parity_right_hand_side_rounded = round(european_put_call_parity_right_hand_side, 2)\n",
        "\n",
        "print(\"European Call Option Price : \", european_call_price_rounded)\n",
        "print(\"European Put Option Price : \", european_put_price_rounded)\n",
        "print(\"European Put-Call parity at time = 0 : \", round(european_call_price - european_put_price,2))\n",
        "print(\"Right Hand Side of put-call parity :\", european_put_call_parity_right_hand_side_rounded)\n"
      ],
      "metadata": {
        "colab": {
          "base_uri": "https://localhost:8080/"
        },
        "id": "Hcu0bFyIAtcB",
        "outputId": "21e2f27a-2c04-4f65-ad24-938db01d78d3"
      },
      "execution_count": null,
      "outputs": [
        {
          "output_type": "stream",
          "name": "stdout",
          "text": [
            "European Call Option Price :  4.6\n",
            "European Put Option Price :  3.35\n",
            "European Put-Call parity at time = 0 :  1.24\n",
            "Right Hand Side of put-call parity : 1.24\n"
          ]
        }
      ]
    },
    {
      "cell_type": "markdown",
      "source": [
        "The calculated price for the ATM European options using a binomial tree with 50 steps are\n",
        "\n",
        "\n",
        "\n",
        "*   European Call Option Price = 4.60\n",
        "*   European Put Option Price = 3.35\n",
        "\n",
        "The right hand side of the put-call parity equation is 1.24 which matches the difference between the call and put prices 1.24 within sensible rounding. Thus, the calculated option prices satisfy the put-call parity , validating the correctness of our calculations. These results confirm that the binomial tree method with 50 steps provides reliable estimates for the prices of ATM European call and put options with the given parameters.\n",
        "\n",
        "\n",
        "\n"
      ],
      "metadata": {
        "id": "iArQh9qfC4qi"
      }
    },
    {
      "cell_type": "markdown",
      "source": [
        "**(6)** Here we will calculate Greek-Delta for the European call and European put at time 0."
      ],
      "metadata": {
        "id": "-U1u_PmyEAeV"
      }
    },
    {
      "cell_type": "code",
      "source": [
        "#here we will retrieve Greek-Delta for European Call and Put at time 0\n",
        "\n",
        "european_delta_call_at_time_0 = european_call_delta[0,0]\n",
        "european_delta_put_at_time_0 = european_put_delta[0,0]\n",
        "\n",
        "print(\"Greek-Delta for European Call at time 0 : \", european_delta_call_at_time_0 )\n",
        "print(\"Greek-Delta for European Put at time 0 : \", european_delta_put_at_time_0)\n"
      ],
      "metadata": {
        "colab": {
          "base_uri": "https://localhost:8080/"
        },
        "id": "Oo1KTAjuFyps",
        "outputId": "9fefbc67-a946-4d8f-8d8c-cf720d13d54d"
      },
      "execution_count": null,
      "outputs": [
        {
          "output_type": "stream",
          "name": "stdout",
          "text": [
            "Greek-Delta for European Call at time 0 :  0.56911969908816\n",
            "Greek-Delta for European Put at time 0 :  -0.4308803009118424\n"
          ]
        }
      ]
    },
    {
      "cell_type": "markdown",
      "source": [
        "The delta of the European Call Option is positive, while the Delta of the European Put Option is negative. This is consistent with the general behaviour of thes options with respect to underlying asset's price movements.\n",
        "\n",
        "The magnitudes of Delta for both the European put and call options are relatively close, but not identical. This is typical for at-the-money ATM options where the strike price is equal to the current price of the underlying asset.\n",
        "\n",
        "Delta primarily act as a proxy for the sensitivity of the option's price to small movements in the underlying asset's price. It essentially indicates how much the price of an option is expected to change for a $1 change in the price of the underlying asset.\n",
        "\n",
        "The positive Delta for the European call option indicates that its value is expected to increase as the underlying asset's price increases. This aligns with the nature of a call option, which provides the right to buy underlying asset. Hence, when the asset's price goes up, the option becomes more valuable.\n",
        "\n",
        "The negative Delta for the European put option indicates that its value is expected to increase as the underlying asset's price decreases. This is consistent with the nature of a put option, which provides the right to sell the underlying asset. Therefore, when the asset's price falls, the option gains value.\n",
        "\n",
        "The signs of Delta for oth options are in line with their respective paoff structures. A call option benefits from upward movements in the underlying asset, while a put option benefits from downward movements . This fundamental difference is reflected in the positive Delta for European calls and negative Delta European puts.\n",
        "\n",
        "\n",
        "\n",
        "\n",
        "\n",
        "\n",
        "\n"
      ],
      "metadata": {
        "id": "RBp2jpGVLHob"
      }
    },
    {
      "cell_type": "markdown",
      "source": [
        "**(7)** Here we will compute the European call and put options price to 5% increase in volatility (from 20% to 25 %) and verify the prices change with respect to the change in volatility."
      ],
      "metadata": {
        "id": "rDP1RyLDzj_I"
      }
    },
    {
      "cell_type": "code",
      "source": [
        "#here we recalculate the European call and put option prices with the increased volatility\n",
        "\n",
        "\n",
        "sigma_new = 0.25 #volatility\n",
        "\n",
        "european_call_price_new, _, _, _, = call_option_price_delta(S_0, K, T, r, sigma_new, N)\n",
        "european_put_price_new, _, _, _, = put_option_price_delta(S_0, K, T, r, sigma_new, N)\n",
        "\n",
        "#here we calculate sensitivity to the change in volatility (Vega)\n",
        "\n",
        "european_vega_call = european_call_price_new - european_call_price\n",
        "european_vega_put = european_put_price_new - european_put_price\n",
        "\n",
        "print(\"European Call Price New : \", round(european_call_price_new, 2))\n",
        "print(\"European Put Price New : \", round(european_put_price_new, 2))\n",
        "print(\"European Put Vega : \", round(european_vega_put, 2))\n",
        "print(\"European Call Vega : \", round(european_vega_call, 2))"
      ],
      "metadata": {
        "id": "YtAzqfCpz-KC",
        "colab": {
          "base_uri": "https://localhost:8080/"
        },
        "outputId": "8d2a1738-4ce2-43e5-d612-1a46232039c9"
      },
      "execution_count": null,
      "outputs": [
        {
          "output_type": "stream",
          "name": "stdout",
          "text": [
            "European Call Price New :  5.57\n",
            "European Put Price New :  4.33\n",
            "European Put Vega :  0.98\n",
            "European Call Vega :  0.98\n"
          ]
        }
      ]
    },
    {
      "cell_type": "markdown",
      "source": [
        "European Call Option\n",
        "\n",
        "\n",
        "\n",
        "*   New price with 25% volatility : 5.57\n",
        "*   Increase in Price (Vega for European Call) : 0.98\n",
        "\n",
        "European Put Option\n",
        "\n",
        "\n",
        "*   New price with 25% volatility : 4.33\n",
        "*   Increase in Price(Vega for European Put) : 0.98\n",
        "\n",
        "Both the European call and put option prices increased with the rise in volatility. The increase was approximately 0.98 for both options. This indicates that both call and put options become more valuable as the uncertainty or volatility in the underlying asset increases.\n",
        "\n",
        "Vega, the sensitivity of option prices to volatility, is always positive for both call and put options. This is because increased volatility leads to greater uncertainty and a higher chance of the option ending in-the-money, which in turn increases the option's value.\n",
        "\n",
        "The impact of the increase in volatility was similar for both the call and put options. This is often the case for at-the-money options. Both types of options benefit from increased volatility because it increases the probability of significant price movemeents, either up or down, which can be advantages for option holders.\n",
        "\n",
        "But note that while the numerical impact was similar, the context differs. For the call option, higher volatility increases the potential for upside movements, making the right to buy more valuable. For the put option, higher volatility amplifies the potential for downside movements, making the right to sell more valuable.\n",
        "\n"
      ],
      "metadata": {
        "id": "nVpdoZ_IMf8p"
      }
    },
    {
      "cell_type": "markdown",
      "source": [
        "## Huynh Truong Huu"
      ],
      "metadata": {
        "id": "45KNqQm5UljD"
      }
    },
    {
      "cell_type": "code",
      "source": [
        "def option_pricing_binary_tree(\n",
        "        S0=100, K=100, sigma=0.2, T=3/12, N=50, r=0.05, opttype='C', opt='American'\n",
        "):\n",
        "    dt = T/N # define dt\n",
        "    u = np.exp(sigma*np.sqrt(dt))\n",
        "    d = np.exp(-sigma*np.sqrt(dt))\n",
        "    S = np.zeros([N+1,N+1])\n",
        "    C = np.zeros([N+1,N+1])\n",
        "    delta = np.zeros([N,N])\n",
        "    p = (np.exp(r*dt)-d)/(u-d)\n",
        "\n",
        "    if opt=='European':\n",
        "        for i in range(N+1):\n",
        "            S[N,i] = S0*(u**i)*(d**(N-i))\n",
        "            if opttype=='C':\n",
        "                C[N,i] = max(S[N,i]-K,0)\n",
        "            elif opttype=='P':\n",
        "                C[N,i] = max(K-S[N,i],0)\n",
        "        for j in range(N-1, -1, -1):\n",
        "            for i in range(j+1):\n",
        "                S[j,i] = S0*(u**i)*(d**(j-i))\n",
        "                C[j,i] = np.exp(-r*dt)*(p*C[j+1,i+1] + (1-p)*C[j+1,i])\n",
        "                delta[j,i] = (C[j+1,i+1]-C[j+1,i])/(S[j+1,i+1]-S[j+1,i])\n",
        "\n",
        "    elif opt=='American':\n",
        "        for i in range(N+1):\n",
        "            S[N,i] = S0*(u**i)*(d**(N-i))\n",
        "            if opttype=='C':\n",
        "                C[N,i] = max(S[N,i]-K,0)\n",
        "            elif opttype=='P':\n",
        "                C[N,i] = max(K-S[N,i],0)\n",
        "        for j in range(N-1, -1, -1):\n",
        "            for i in range(j+1):\n",
        "                S[j,i] = S0*(u**i)*(d**(j-i))\n",
        "                C[j,i] = np.exp(-r*dt)*(p*C[j+1,i+1] + (1-p)*C[j+1,i])\n",
        "                if opttype=='C':\n",
        "                    C[j,i] = max(S[j,i]-K,C[j,i])\n",
        "                elif opttype=='P':\n",
        "                    C[j,i] = max(K-S[j,i],C[j,i])\n",
        "                delta[j,i] = (C[j+1,i+1]-C[j+1,i])/(S[j+1,i+1]-S[j+1,i])\n",
        "\n",
        "\n",
        "    return C, S, delta"
      ],
      "metadata": {
        "id": "LaiRJEhxfAgv"
      },
      "execution_count": null,
      "outputs": []
    },
    {
      "cell_type": "markdown",
      "source": [
        "**(8)** Now let's work on American calls and puts using a binomial tree.\n",
        "\n",
        "* For ATM options, $S_0=100$\n",
        "\n",
        "* For this American call and put options, we will use N = 50 steps, to fit with 3months period and to help us easily compare with European options. One special feature of American options are that they could execute any time before expiration.\n",
        "\n",
        "* A brief discussion for overall process as follow:\n",
        "\n",
        "  (1) We will construct a binomial tree for the underlying stock price. The tree is built using upward and downward movement factors(u and d), which are derived from volatility ($\\sigma$).  \n",
        "  (2) For each final node in the tree, we calculate the payoff of the call and put options. For a call, it is max(S - K, 0) and for a put, max(K - S, 0).  \n",
        "  (3) Starting from the final nodes, we calculate the option value at each preceding node base on risk-neutral probabilities. This is done until the initial node is reached.  \n",
        "  However, with American option we need one more step is that compare the option price with the difference between stock price at that node and strike price to select the bigger one.  \n",
        "  (4) We calculate the Delta at each node, representing the sensitivity of the option price to small changes in the underlying asset's price."
      ],
      "metadata": {
        "id": "0Ci4LWM2XSJP"
      }
    },
    {
      "cell_type": "markdown",
      "source": [
        "**(9)**  At time 0,\n",
        "a. The delta is computed by the change of option price of the next step per the change of underlying asset price of the next step.\n",
        "\n",
        "b. Getting the same with European option, the delta of the American Call Option is positive, while the Delta of the American Put Option is negative. This is consistent with the general behaviour of these options with respect to underlying asset's price movements."
      ],
      "metadata": {
        "id": "zHZQErZ5XZH8"
      }
    },
    {
      "cell_type": "markdown",
      "source": [
        "**(10)**  \n",
        "a. Let's compute the price of options at $σ=20\\%$ and $σ=25\\%$.  "
      ],
      "metadata": {
        "id": "e4aMTw2qXhTI"
      }
    },
    {
      "cell_type": "code",
      "source": [
        "# Call price at sigma = 0.2\n",
        "C20, _, _ = option_pricing_binary_tree(\n",
        "        S0=100, K=100, sigma=0.2, T=3/12, N=50, r=0.05, opttype='C', opt='American'\n",
        ")\n",
        "# Call price at sigma = 0.25\n",
        "C25, _, _ = option_pricing_binary_tree(\n",
        "        S0=100, K=100, sigma=0.25, T=3/12, N=50, r=0.05, opttype='C', opt='American'\n",
        ")"
      ],
      "metadata": {
        "id": "Fe5v3bUzl9TT"
      },
      "execution_count": null,
      "outputs": []
    },
    {
      "cell_type": "code",
      "source": [
        "print(\n",
        "    f\"\"\"\n",
        "    The call price at t=0 with sigma equal to 20% is ${C20[0,0]:.2f} and equal to 25% is ${C25[0,0]:.2f}.\n",
        "    So the sensitive is ~${(C25[0,0]-C20[0,0])/(25-20):.2f} for 1% volatility\n",
        "    \"\"\"\n",
        ")"
      ],
      "metadata": {
        "colab": {
          "base_uri": "https://localhost:8080/"
        },
        "id": "MJM9qn12mpTq",
        "outputId": "960bd227-07dd-4750-9976-b9377594a781"
      },
      "execution_count": null,
      "outputs": [
        {
          "output_type": "stream",
          "name": "stdout",
          "text": [
            "\n",
            "    The call price at t=0 with sigma equal to 20% is $4.60 and equal to 25% is $5.57.\n",
            "    So the sensitive is ~$0.20 for 1% volatility\n",
            "    \n"
          ]
        }
      ]
    },
    {
      "cell_type": "code",
      "source": [
        "# Put price at sigma = 0.2\n",
        "P20, _, _ = option_pricing_binary_tree(\n",
        "        S0=100, K=100, sigma=0.2, T=3/12, N=50, r=0.05, opttype='P', opt='American'\n",
        ")\n",
        "# Put price at sigma = 0.25\n",
        "P25, _, _ = option_pricing_binary_tree(\n",
        "        S0=100, K=100, sigma=0.25, T=3/12, N=50, r=0.05, opttype='P', opt='American'\n",
        ")"
      ],
      "metadata": {
        "id": "upogTjeimXEi"
      },
      "execution_count": null,
      "outputs": []
    },
    {
      "cell_type": "code",
      "source": [
        "print(\n",
        "    f\"\"\"\n",
        "    The put price at t=0 with sigma equal to 20% is ${P20[0,0]:.2f} and equal to 25% is ${P25[0,0]:.2f}.\n",
        "    So the sensitive is ~${(P25[0,0]-P20[0,0])/(25-20):.2f} for 1% volatility\n",
        "    \"\"\"\n",
        ")"
      ],
      "metadata": {
        "colab": {
          "base_uri": "https://localhost:8080/"
        },
        "id": "rEz-8WtRp9Tg",
        "outputId": "1d57f77b-8bf4-4adf-ba13-26d88b56c9a6"
      },
      "execution_count": null,
      "outputs": [
        {
          "output_type": "stream",
          "name": "stdout",
          "text": [
            "\n",
            "    The put price at t=0 with sigma equal to 20% is $3.47 and equal to 25% is $4.45.\n",
            "    So the sensitive is ~$0.20 for 1% volatility\n",
            "    \n"
          ]
        }
      ]
    },
    {
      "cell_type": "markdown",
      "source": [
        "## Hao Pham"
      ],
      "metadata": {
        "id": "f3l9FBafU2S1"
      }
    },
    {
      "cell_type": "markdown",
      "source": [
        "**(11)** European call and put satisfy put-call parity"
      ],
      "metadata": {
        "id": "rNad4Y85ZxEp"
      }
    },
    {
      "cell_type": "code",
      "source": [
        "#here we will round European option prices to nearest cent\n",
        "\n",
        "european_call_price_rounded = round(european_call_price, 2)\n",
        "european_put_price_rounded = round(european_put_price, 2)\n",
        "\n",
        "#here we will check put-call parity : C - P = S_0 - Ke^(-rT)\n",
        "\n",
        "european_put_call_parity_right_hand_side = S_0 - K * np.exp(-r * T)\n",
        "european_put_call_parity_right_hand_side_rounded = round(european_put_call_parity_right_hand_side, 2)\n",
        "\n",
        "print(\"ATM European Call Price : \", european_call_price_rounded)\n",
        "print(\"ATM European Put Price : \", european_put_price_rounded)\n",
        "print(\"European Put-Call parity at time = 0 : \", round(european_call_price - european_put_price,2))\n",
        "print(\"Right Hand Side of put-call parity :\", european_put_call_parity_right_hand_side_rounded)"
      ],
      "metadata": {
        "colab": {
          "base_uri": "https://localhost:8080/"
        },
        "id": "SWr_siEcZ5MW",
        "outputId": "d3757c43-b353-49a5-c990-6c9679f1ca9f"
      },
      "execution_count": null,
      "outputs": [
        {
          "output_type": "stream",
          "name": "stdout",
          "text": [
            "ATM European Call Price :  4.6\n",
            "ATM European Put Price :  3.35\n",
            "European Put-Call parity at time = 0 :  1.24\n",
            "Right Hand Side of put-call parity : 1.24\n"
          ]
        }
      ]
    },
    {
      "cell_type": "markdown",
      "source": [
        "Therefore, put-call parity is upheld C - P = S_0 - Ke^(-rT) = 1.24\n",
        "\n",
        "If there is no put-call parity, there is opportunity for riskless arbitrage. More participants will come into the market to profit from the arbitrage, until the prices level or converge. For examples, if the call is priced lower than 4.6, more market participant wills buy calls, thus increasing the calls price, till it converges to 4.6"
      ],
      "metadata": {
        "id": "p9j8jN44aVkL"
      }
    },
    {
      "cell_type": "markdown",
      "source": [
        "**(12)** American call and put do not have concept of put-call parity"
      ],
      "metadata": {
        "id": "9c_YZhQqajpg"
      }
    },
    {
      "cell_type": "code",
      "source": [
        "print(\n",
        "    f\"\"\"\n",
        "    The ATM American call-put difference at t=0 with sigma equal to 20% is ${C20[0,0]-P20[0,0]:.2f}.\n",
        "    The put-call equivalent is ${S_0 - K * np.exp(-r * T):.2f}\n",
        "    \"\"\"\n",
        "    )\n",
        "\n",
        "#here we will check put-call parity : C - P = S_0 - Ke^(-rT)\n",
        "if C20[0,0]-P20[0,0] == S_0 - K * np.exp(-r * T):\n",
        "  print(\"Satisfied put-call parity\")\n",
        "else:\n",
        "  print(\"No put-call parity\")"
      ],
      "metadata": {
        "id": "SuYNJM4pa2eY",
        "colab": {
          "base_uri": "https://localhost:8080/"
        },
        "outputId": "c0b3cd1f-ae95-494a-cfa6-3c5c7db96536"
      },
      "execution_count": null,
      "outputs": [
        {
          "output_type": "stream",
          "name": "stdout",
          "text": [
            "\n",
            "    The ATM American call-put difference at t=0 with sigma equal to 20% is $1.13.\n",
            "    The put-call equivalent is $1.24\n",
            "    \n",
            "No put-call parity\n"
          ]
        }
      ]
    },
    {
      "cell_type": "markdown",
      "source": [
        "Since American options can be exercised at anytime, their time values change and put-call parity doesn't apply to the ATM American options"
      ],
      "metadata": {
        "id": "mT-XBn4Tw2bf"
      }
    },
    {
      "cell_type": "markdown",
      "source": [
        "**(13/14)** The price of the European call/put is cheaper or equal to American call/put because American options has options to be exercised early, thus carry the premium for such opportunity"
      ],
      "metadata": {
        "id": "pmITR9UqF99m"
      }
    },
    {
      "cell_type": "code",
      "source": [
        "if C20[0,0] >= european_call_price:\n",
        "  print(\"European call price is less or equal than American call\")\n",
        "else:\n",
        "  print(\"European call more expensive than American call.\")\n",
        "print(f\"\"\"\n",
        "      The difference between ATM European vs American call price at t=0, sigma=20%, S0= 100, T=3/12, N=50, r=0.05 is ${european_call_price - C20[0,0]:.2f}\n",
        "      \"\"\"\n",
        "  )\n",
        "if P20[0,0] >= european_put_price:\n",
        "  print(\"European put price is less or equal than American put\")\n",
        "else:\n",
        "  print(\"European put more expensive than American put.\")\n",
        "print(f\"\"\"\n",
        "      The difference between ATM European vs American put price at t=0, sigma=20%, S0= 100, T=3/12, N=50, r=0.05 is ${european_put_price - P20[0,0]:.2f}\n",
        "      \"\"\"\n",
        "  )"
      ],
      "metadata": {
        "colab": {
          "base_uri": "https://localhost:8080/"
        },
        "id": "bJvmJEa3GkUQ",
        "outputId": "761d4228-6a1c-4f4d-8338-d455c5e5a4ed"
      },
      "execution_count": null,
      "outputs": [
        {
          "output_type": "stream",
          "name": "stdout",
          "text": [
            "European call price is less or equal than American call\n",
            "\n",
            "      The difference between ATM European vs American call price at t=0, sigma=20%, S0= 100, T=3/12, N=50, r=0.05 is $0.00\n",
            "      \n",
            "European put price is less or equal than American put\n",
            "\n",
            "      The difference between ATM European vs American put price at t=0, sigma=20%, S0= 100, T=3/12, N=50, r=0.05 is $-0.12\n",
            "      \n"
          ]
        }
      ]
    },
    {
      "cell_type": "markdown",
      "source": [
        "\n",
        "\n",
        "*   Although the price is higher, the payoff of the American call/put is not always higher than the European ones. The American call payoff is smaller than the current stock price if exercised early, while European call payoff is at least the current stock price.\n",
        "> American call payoff in early exercise: C = ($S_0$ -K) + K$e^{-rT}$ < $S_0$\n",
        "\n",
        ">   There might be an exception to this: when the underlying pays dividend and with the stock price dropping after dividend payment, it might worth more to exercise before dividend pay\n",
        "\n",
        "*   With the flexible time of exercise, the American seller has more risk.\n",
        "\n",
        "\n",
        "\n"
      ],
      "metadata": {
        "id": "k1hP1rpptRf6"
      }
    },
    {
      "cell_type": "markdown",
      "source": [
        "##**Step2**\n"
      ],
      "metadata": {
        "id": "ECqZvrTmKRhU"
      }
    },
    {
      "cell_type": "markdown",
      "source": [
        "## Huynh Truong Huu"
      ],
      "metadata": {
        "id": "En8KdeXm3VIS"
      }
    },
    {
      "cell_type": "markdown",
      "source": [],
      "metadata": {
        "id": "RPkfSZvmKd2n"
      }
    },
    {
      "cell_type": "code",
      "source": [
        "class TrinomialModel_European:\n",
        "    def __init__(self, S0, r, sigma, mat):\n",
        "        self.__S0=S0\n",
        "        self.__r=r\n",
        "        self.__sigma=sigma\n",
        "        self.__T=mat\n",
        "\n",
        "    def __compute_probs(self):\n",
        "        self.__pu=\\\n",
        "            ((np.exp(self.__r*self.__h/2)-\n",
        "              np.exp(-self.__sigma*np.sqrt(self.__h/2)))/\n",
        "            (np.exp(self.__sigma*np.sqrt(self.__h/2))-\n",
        "             np.exp(-self.__sigma*np.sqrt(self.__h/2))))**2\n",
        "        self.__pd=\\\n",
        "            ((-np.exp(self.__r*self.__h/2)+\n",
        "              np.exp(self.__sigma*np.sqrt(self.__h/2)))/\n",
        "            (np.exp(self.__sigma*np.sqrt(self.__h/2))-\n",
        "             np.exp(-self.__sigma*np.sqrt(self.__h/2))))**2\n",
        "        self.__pm=1-self.__pu-self.__pd\n",
        "\n",
        "    def __check_up_values(self, up):\n",
        "        if up is None:\n",
        "            up=np.exp(self.__sigma*np.sqrt(2*self.__h))\n",
        "        down=1/up\n",
        "        self.__up=up\n",
        "        self.__down=down\n",
        "\n",
        "    def __gen_stock_vec(self, nb):\n",
        "        vec_u=self.__up*np.ones(nb)\n",
        "        np.cumprod(vec_u, out=vec_u)\n",
        "        vec_d=self.__down*np.ones(nb)\n",
        "        np.cumprod(vec_d, out=vec_d)\n",
        "\n",
        "        res=np.concatenate((vec_d[::-1], [1.0], vec_u))\n",
        "        res*=self.__S0\n",
        "\n",
        "        return res\n",
        "\n",
        "    def payoff(self, stock_vec):\n",
        "        raise NotImplementedError()\n",
        "\n",
        "    def compute_current_price(self, crt_vec_stock, nxt_vec_prices):\n",
        "        expectation=np.zeros(crt_vec_stock.size)\n",
        "        for i in range(expectation.size):\n",
        "            tmp=nxt_vec_prices[i]*self.__pd\n",
        "            tmp+=nxt_vec_prices[i+1]*self.__pm\n",
        "            tmp+=nxt_vec_prices[i+2]*self.__pu\n",
        "\n",
        "            expectation[i]=tmp\n",
        "\n",
        "        return expectation*self.__discount\n",
        "\n",
        "    def price(self, nb_steps, up=None):\n",
        "        assert nb_steps>0, \"nb_steps needs larger than 0\"\n",
        "        nb_steps=int(nb_steps)\n",
        "\n",
        "        self.__h=self.__T/nb_steps\n",
        "        self.__check_up_values(up)\n",
        "        self.__compute_probs()\n",
        "        self.__discount=np.exp(-self.__r*self.__h)\n",
        "\n",
        "        final_vec_stock=self.__gen_stock_vec(nb_steps)\n",
        "        final_payoff=self.payoff(final_vec_stock)\n",
        "        nxt_vec_prices=final_payoff\n",
        "\n",
        "        for i in range(1, nb_steps+1):\n",
        "            vec_stock=self.__gen_stock_vec(nb_steps-i)\n",
        "            nxt_vec_prices=self.compute_current_price(vec_stock, nxt_vec_prices)\n",
        "\n",
        "        return nxt_vec_prices[0]"
      ],
      "metadata": {
        "id": "jPz0sQxy3izI"
      },
      "execution_count": null,
      "outputs": []
    },
    {
      "cell_type": "code",
      "source": [
        "class TrinomialCallEuropean(TrinomialModel_European):\n",
        "    def __init__(self, S0, r, sigma, mat, K):\n",
        "        super(TrinomialCallEuropean, self).__init__(S0, r, sigma, mat)\n",
        "        self.__K=K\n",
        "\n",
        "    def payoff(self, s):\n",
        "        return np.maximum(s-self.__K,0.0) #max(S-K,0)\n",
        "\n",
        "class TrinomialPutEuropean(TrinomialModel_European):\n",
        "    def __init__(self, S0, r, sigma, mat, K):\n",
        "        super(TrinomialPutEuropean, self).__init__(S0, r, sigma, mat)\n",
        "        self.__K=K\n",
        "\n",
        "    def payoff(self, s):\n",
        "        return np.maximum(self.__K-s,0.0) #max(K-S,0)\n"
      ],
      "metadata": {
        "id": "jiJiToyVti8-"
      },
      "execution_count": null,
      "outputs": []
    },
    {
      "cell_type": "markdown",
      "source": [
        "**(15)** Trinomial European Call:\n",
        "\n",
        "Parameters:\n",
        "*   $S_0$ = 100\n",
        "*   r = 5%\n",
        "*   $\\sigma$ = 20%\n",
        "*   T = 3 months\n",
        "\n",
        "Strike Prices based on Moneyness:\n",
        "\n",
        "*   Deep OTM : K = $S_0$ x 0.90 = 110\n",
        "*   OTM : K = $S_0$ x 0.95 = 105\n",
        "*   ATM : K = $S_0$ ( 100 in this case)\n",
        "*   ITM : K = $S_0$ x 1.05 = 95\n",
        "*   Deep ITM : K = $S_0$ x 1.10 = 90"
      ],
      "metadata": {
        "id": "kezdqLJlw7V4"
      }
    },
    {
      "cell_type": "code",
      "source": [
        "S0 = 100\n",
        "r = 0.05\n",
        "sigma = 0.20\n",
        "T = 3 / 12 # 3 months in years\n",
        "nb_steps = 50 #number of steps in trinomial tree\n",
        "\n",
        "#strike prices based on moneyness\n",
        "\n",
        "K = [S0 * moneyness for moneyness in [0.90, 0.95, 1.00, 1.05, 1.10]]\n",
        "\n",
        "for k in K:\n",
        "  #Trinomial model\n",
        "  model_Euro_call = TrinomialCallEuropean(S0, r, sigma , T, k)\n",
        "  print(f\"Strike {k:.2f} : {model_Euro_call.price(nb_steps):.2f}\")"
      ],
      "metadata": {
        "colab": {
          "base_uri": "https://localhost:8080/"
        },
        "id": "BnZgtpGTuBX4",
        "outputId": "4fc4ca49-8045-4934-ef63-43182a11c602"
      },
      "execution_count": null,
      "outputs": [
        {
          "output_type": "stream",
          "name": "stdout",
          "text": [
            "Strike 90.00 : 11.67\n",
            "Strike 95.00 : 7.72\n",
            "Strike 100.00 : 4.61\n",
            "Strike 105.00 : 2.49\n",
            "Strike 110.00 : 1.19\n"
          ]
        }
      ]
    },
    {
      "cell_type": "markdown",
      "source": [
        "**(16)** Trinomial Put European:"
      ],
      "metadata": {
        "id": "iOHtv31LxY_Y"
      }
    },
    {
      "cell_type": "code",
      "source": [
        "S0 = 100\n",
        "r = 0.05\n",
        "sigma = 0.20\n",
        "T = 3 / 12 # 3 months in years\n",
        "nb_steps = 50 #number of steps in trinomial tree\n",
        "\n",
        "#strike prices based on moneyness\n",
        "\n",
        "K = [S0 * moneyness for moneyness in [0.90, 0.95, 1.00, 1.05, 1.10]]\n",
        "\n",
        "for k in K:\n",
        "  #Trinomial model\n",
        "  model_Euro_put = TrinomialPutEuropean(S0, r, sigma , T, k)\n",
        "  print(f\"Strike {k:.2f} : {model_Euro_put.price(nb_steps):.2f}\")"
      ],
      "metadata": {
        "colab": {
          "base_uri": "https://localhost:8080/"
        },
        "id": "iBPR3wXAtytC",
        "outputId": "2e6f90b4-8f18-462f-eb49-60d87cd2cb84"
      },
      "execution_count": null,
      "outputs": [
        {
          "output_type": "stream",
          "name": "stdout",
          "text": [
            "Strike 90.00 : 0.55\n",
            "Strike 95.00 : 1.54\n",
            "Strike 100.00 : 3.36\n",
            "Strike 105.00 : 6.18\n",
            "Strike 110.00 : 9.83\n"
          ]
        }
      ]
    },
    {
      "cell_type": "markdown",
      "source": [
        "## Saw Sha Plaw Law ."
      ],
      "metadata": {
        "id": "iRBohW1c3dyL"
      }
    },
    {
      "cell_type": "markdown",
      "source": [],
      "metadata": {
        "id": "2vrqFRx7Ke99"
      }
    },
    {
      "cell_type": "markdown",
      "source": [
        "**(17)** Here we will work with America call options using trinomial tree .\n",
        "\n",
        "Parameters:\n",
        "\n",
        "\n",
        "*   $S_0$ = 100\n",
        "*   r = 5%\n",
        "\n",
        "*   $\\sigma$ = 20%\n",
        "*   T = 3 months\n",
        "\n",
        "Strike Prices based on Moneyness:\n",
        "\n",
        "\n",
        "*   Deep ITM : K = $S_0$ x 0.90 = 90\n",
        "*   ITM : K = $S_0$ x 0.95 = 95\n",
        "\n",
        "*   ATM : K = $S_0$ ( 100 in this case)\n",
        "*   OTM : K = $S_0$ x 1.05 = 105\n",
        "\n",
        "*   Deep OTM : K = $S_0$ x 1.10 = 110\n"
      ],
      "metadata": {
        "id": "hPMNep3N4O6L"
      }
    },
    {
      "cell_type": "code",
      "source": [
        "#here we define trinomial model\n",
        "\n",
        "class TrinomialModel(object):\n",
        "  def __init__(self, S0, r, sigma, T):\n",
        "    self.__s0 = S0\n",
        "    self.__r = r\n",
        "    self.__sigma = sigma\n",
        "    self.__T = T\n",
        "\n",
        "  def __compute_probs(self, h):\n",
        "    self.__pu = ((\n",
        "        np.exp(self.__r * h /2) - np.exp(-self.__sigma * np.sqrt(h / 2)))\n",
        "    /(np.exp(self.__sigma * np.sqrt(h / 2)) - np.exp(-self.__sigma * np.sqrt(h / 2)))\n",
        "    ) **2\n",
        "\n",
        "    self.__pd = ((\n",
        "            -np.exp(self.__r *  h / 2) + np.exp(self.__sigma * np.sqrt(h / 2)))\n",
        "        / (np.exp(self.__sigma * np.sqrt(h / 2)) - np.exp(-self.__sigma * np.sqrt(h / 2)))\n",
        "    )**2\n",
        "\n",
        "    self.__pm = 1 - self.__pu - self.__pd\n",
        "\n",
        "  def __gen_stock_vec(self, nb, h):\n",
        "    up = np.exp(self.__sigma * np.sqrt(2 * h))\n",
        "    down = 1 / up\n",
        "    vec_u = up * np.ones(nb)\n",
        "    np.cumprod(vec_u, out = vec_u)\n",
        "    vec_d = down * np.ones(nb)\n",
        "    np.cumprod(vec_d, out = vec_d)\n",
        "    res = np.concatenate((vec_d[::-1], [1.0], vec_u))\n",
        "    res *= self.__s0\n",
        "    return res\n",
        "\n",
        "  def payoff(self, stock_vec, strike_price, option_type):\n",
        "    if option_type == \"call\":\n",
        "      return np.maximum(stock_vec - strike_price, 0.0)\n",
        "    elif option_type == \"put\":\n",
        "      return np.maximum(strike_price - stock_vec, 0.0)\n",
        "\n",
        "  def compute_current_price(self, crt_vec_stock, nxt_vec_prices, strike_price, option_type, is_american):\n",
        "    expectation = np.zeros(crt_vec_stock.size)\n",
        "    for i in range(expectation.size):\n",
        "      tmp = nxt_vec_prices[i] * self.__pd\n",
        "      tmp += nxt_vec_prices[i+1] * self.__pm\n",
        "      tmp += nxt_vec_prices[i+2] * self.__pu\n",
        "      expectation[i] = tmp\n",
        "\n",
        "    discounted_expectation = np.exp(-self.__r * self.__T / len(crt_vec_stock)) * expectation\n",
        "    if is_american:\n",
        "      exercise_value = self.payoff(crt_vec_stock, strike_price, option_type)\n",
        "      return np.maximum(discounted_expectation, exercise_value)\n",
        "    else:\n",
        "      return discounted_expectation\n",
        "\n",
        "  def price(self, nb_steps, strike_price, option_type, is_american):\n",
        "    h = self.__T / nb_steps\n",
        "    self.__compute_probs(h)\n",
        "    final_vec_stock = self.__gen_stock_vec(nb_steps, h)\n",
        "    final_payoff = self.payoff(final_vec_stock, strike_price, option_type)\n",
        "    nxt_vec_prices = final_payoff\n",
        "    for i in range(1, nb_steps + 1):\n",
        "      vec_stock = self.__gen_stock_vec(nb_steps - i, h)\n",
        "      #pass the american argument\n",
        "      nxt_vec_prices = self.compute_current_price(vec_stock, nxt_vec_prices, strike_price, option_type, is_american)\n",
        "    return nxt_vec_prices[0]\n",
        "\n",
        "#Given parameters\n",
        "\n",
        "S0 = 100\n",
        "r = 0.05\n",
        "sigma = 0.20\n",
        "T = 3 / 12 # 3 months in years\n",
        "nb_steps = 50 #number of steps in trinomial tree\n",
        "\n",
        "#strike prices based on moneyness\n",
        "\n",
        "strikes = [S0 * moneyness for moneyness in [0.90, 0.95, 1.00, 1.05, 1.10]]\n",
        "\n",
        "#Trinomial model\n",
        "model = TrinomialModel(S0, r, sigma , T)\n",
        "\n",
        "american_call_prices_trinomial = {f\"American Call Strike {K:.2f}\": model.price(nb_steps, K, 'call', True) for K in strikes}\n",
        "american_call_prices_trinomial = {key: round(value, 2) for key, value in american_call_prices_trinomial.items()}\n",
        "\n",
        "american_call_prices_trinomial"
      ],
      "metadata": {
        "colab": {
          "base_uri": "https://localhost:8080/"
        },
        "id": "-ZSSk0AK4Xfa",
        "outputId": "82ba1da2-3abf-41dc-851d-f244d05d8c83"
      },
      "execution_count": null,
      "outputs": [
        {
          "output_type": "execute_result",
          "data": {
            "text/plain": [
              "{'American Call Strike 90.00': 11.39,\n",
              " 'American Call Strike 95.00': 7.54,\n",
              " 'American Call Strike 100.00': 4.49,\n",
              " 'American Call Strike 105.00': 2.43,\n",
              " 'American Call Strike 110.00': 1.16}"
            ]
          },
          "metadata": {},
          "execution_count": 19
        }
      ]
    },
    {
      "cell_type": "markdown",
      "source": [
        "The prices of the American call option with different strike prices using the trinomial tree model\n",
        "\n",
        "\n",
        "\n",
        "*   Deep ITM(Strike Price = 90) = 11.39\n",
        "*   ITM(Strike Price = 95) = 7.54\n",
        "\n",
        "*   ATM(Strike Price = 100) = 4.49\n",
        "*   OTM(Strike Price = 105) = 2.43\n",
        "\n",
        "*   Deep OTM(Strike Price = 110.0) = 1.16\n",
        "\n",
        "The above trend makes sense and is consistent with the typical behaviour of option prices in relation to moneyness. The decreasing trend in prices as we move from  (From deep ITM to deep OTM) align well with the general principles or optionspricing. The more an option is in-the-money, the more valuable it is, and vice versa.\n"
      ],
      "metadata": {
        "id": "bxMG5XjA42Tr"
      }
    },
    {
      "cell_type": "markdown",
      "source": [
        "**(18)** Here we will work with America put options using trinomial tree"
      ],
      "metadata": {
        "id": "NFUYKGTJ49HP"
      }
    },
    {
      "cell_type": "code",
      "source": [
        "#Given parameters\n",
        "\n",
        "S0 = 100\n",
        "r = 0.05\n",
        "sigma = 0.20\n",
        "T = 3 / 12 # 3 months in years\n",
        "nb_steps = 50 #number of steps in trinomial tree\n",
        "\n",
        "#strike prices based on moneyness\n",
        "\n",
        "strikes = [S0 * moneyness for moneyness in [0.90, 0.95, 1.00, 1.05, 1.10]]\n",
        "\n",
        "#Trinomial model\n",
        "model = TrinomialModel(S0, r, sigma , T)\n",
        "\n",
        "#Pricing American Call option for different strikes\n",
        "american_put_prices_trinomial = {f\"American Put Strike {K:.2f}\": model.price(nb_steps, K, 'put', True) for K in strikes}\n",
        "american_put_prices_trinomial = {key: round(value, 2) for key, value in american_put_prices_trinomial.items()}\n",
        "\n",
        "american_put_prices_trinomial"
      ],
      "metadata": {
        "colab": {
          "base_uri": "https://localhost:8080/"
        },
        "id": "XxqOM-Ur5gjs",
        "outputId": "10a1ef6a-c34e-4d5c-e307-251a83dd5d0b"
      },
      "execution_count": null,
      "outputs": [
        {
          "output_type": "execute_result",
          "data": {
            "text/plain": [
              "{'American Put Strike 90.00': 0.55,\n",
              " 'American Put Strike 95.00': 1.54,\n",
              " 'American Put Strike 100.00': 3.38,\n",
              " 'American Put Strike 105.00': 6.27,\n",
              " 'American Put Strike 110.00': 10.1}"
            ]
          },
          "metadata": {},
          "execution_count": 20
        }
      ]
    },
    {
      "cell_type": "markdown",
      "source": [
        "\n",
        "The observed trend in the prices of American put option with different strike prices as as follows:\n",
        "\n",
        "\n",
        "\n",
        "*   Deep ITM (Strike Price = 110) = 10.10\n",
        "*   ITM (Strike Price = 105) = 6.27\n",
        "\n",
        "*   ATM(Strike Price = 100) = 3.38\n",
        "*   OTM(Strike Price = 95) = 1.54\n",
        "\n",
        "*   Deep OTM (Strike Price = 90) = 0.55\n",
        "\n",
        "This decreasing trend in option prices from deep ITM to deep OTM aligns with the principles of options pricing, considering factors like intrinsic value, time value, and the probability of the option being exercised profitably.\n"
      ],
      "metadata": {
        "id": "fIBrkW9e7dHg"
      }
    },
    {
      "cell_type": "markdown",
      "source": [
        "## Hao Pham"
      ],
      "metadata": {
        "id": "NNdtFfOi3ZZ1"
      }
    },
    {
      "cell_type": "markdown",
      "source": [
        "**(19)** European call-put prices vs stock prices"
      ],
      "metadata": {
        "id": "jZ8LyjMqqYTm"
      }
    },
    {
      "cell_type": "code",
      "source": [
        "# Using Black Scholes equation\n",
        "def d1_calc(S, K=100, r=0.05, vol=0.2, T=3/12, t=0):\n",
        "    # Calculates d1 in the BSM equation\n",
        "    return (np.log(S/K) + (r + 0.5 * vol**2)*(T-t))/(vol*np.sqrt(T-t))\n",
        "\n",
        "def BS_call(S, K=100, r=0.05, vol=0.2, T=3/12, t=0):\n",
        "    d1 = d1_calc(S, K, r, vol, T, t)\n",
        "    d2 = d1 - vol * np.sqrt(T)\n",
        "    return S * norm.cdf(d1) - K * np.exp(-r*T)*norm.cdf(d2)\n",
        "\n",
        "def BS_put(S, K=100, r=0.05, vol=0.2, T=3/12, t=0):\n",
        "    return BS_call(S, K, r, vol, T, t) - S + np.exp(-r*(T-t))*K"
      ],
      "metadata": {
        "id": "YqY7U8hvMUhL"
      },
      "execution_count": null,
      "outputs": []
    },
    {
      "cell_type": "code",
      "source": [
        "S = np.arange(80, 120)\n",
        "vals_call = [BS_call(x, 100, 0.05, 0.2, 3/12, 0) for x in S]\n",
        "vals_put = [BS_put(x, 100, 0.05, 0.2, 3/12, 0) for x in S]\n",
        "plt.plot(S,vals_call, 'r', label = \"Call\")\n",
        "plt.plot(S,vals_put, 'b', label  = \"Put\")\n",
        "plt.legend()\n",
        "plt.ylabel(\"European Option Price ($)\")\n",
        "plt.xlabel(\"Stock Price ($)\")\n",
        "plt.show()"
      ],
      "metadata": {
        "colab": {
          "base_uri": "https://localhost:8080/",
          "height": 449
        },
        "id": "2mWPcejKMei-",
        "outputId": "d135fc71-b51a-482b-a744-861d2ee2939f"
      },
      "execution_count": null,
      "outputs": [
        {
          "output_type": "display_data",
          "data": {
            "text/plain": [
              "<Figure size 640x480 with 1 Axes>"
            ],
            "image/png": "[encoded data removed]"
          },
          "metadata": {}
        }
      ]
    },
    {
      "cell_type": "markdown",
      "source": [
        "**(20)** American call-put prices vs stock prices"
      ],
      "metadata": {
        "id": "MzjyAgcXqnV-"
      }
    },
    {
      "cell_type": "code",
      "source": [
        "vals_call=[]\n",
        "vals_put=[]\n",
        "S= np.arange(80,120)\n",
        "for s in S:\n",
        "  C20, _, _ = option_pricing_binary_tree(s, K=100, sigma=0.2, T=3/12, N=50, r=0.05, opttype='C', opt='American')\n",
        "  P20, _, _ = option_pricing_binary_tree(s, K=100, sigma=0.2, T=3/12, N=50, r=0.05, opttype='P', opt='American')\n",
        "  vals_call.append(round(C20[0,0],2))\n",
        "  vals_put.append(round(P20[0,0],2))\n",
        "\n",
        "plt.plot(S,vals_call, 'r', label = \"Call\")\n",
        "plt.plot(S,vals_put, 'b', label  = \"Put\")\n",
        "plt.legend()\n",
        "plt.ylabel(\"American Option Price ($)\")\n",
        "plt.xlabel(\"Stock Price ($)\")\n",
        "plt.show()"
      ],
      "metadata": {
        "colab": {
          "base_uri": "https://localhost:8080/",
          "height": 449
        },
        "id": "nEG9wALIqkQX",
        "outputId": "892c2e0c-9eca-42ab-cc9e-88bcad6a6fd9"
      },
      "execution_count": null,
      "outputs": [
        {
          "output_type": "display_data",
          "data": {
            "text/plain": [
              "<Figure size 640x480 with 1 Axes>"
            ],
            "image/png": "[encoded data removed]"
          },
          "metadata": {}
        }
      ]
    },
    {
      "cell_type": "markdown",
      "source": [
        "**(21)** European and American call prices vs strike prices"
      ],
      "metadata": {
        "id": "IYnOTUCPrc3i"
      }
    },
    {
      "cell_type": "code",
      "source": [
        "vals_Acall=[]\n",
        "vals_Ecall=[]\n",
        "K= np.arange(80,120)\n",
        "for k in K:\n",
        "  model_American_call = TrinomialModel(100, 0.05, 0.2, 3/12)\n",
        "  AC20 = model_American_call.price(50, k, 'call', True)\n",
        "  model_Euro_call = TrinomialCallEuropean(100, 0.05, 0.2 , 3/12, k)\n",
        "  EC20 = model_Euro_call.price(50)\n",
        "  vals_Acall.append(round(AC20,2))\n",
        "  vals_Ecall.append(round(EC20,2))\n",
        "\n",
        "plt.plot(K,vals_Ecall, 'r', label = \"European Call\")\n",
        "plt.plot(K,vals_Acall, 'b', label  = \"American Call\",alpha=0.7)\n",
        "plt.legend()\n",
        "plt.ylabel(\"Put Option Price ($)\")\n",
        "plt.xlabel(\"Strike Price ($)\")\n",
        "plt.show()"
      ],
      "metadata": {
        "colab": {
          "base_uri": "https://localhost:8080/",
          "height": 449
        },
        "id": "uwUIYWajrX6U",
        "outputId": "a8a63623-9d6b-47ac-c298-3610a752b6c7"
      },
      "execution_count": null,
      "outputs": [
        {
          "output_type": "display_data",
          "data": {
            "text/plain": [
              "<Figure size 640x480 with 1 Axes>"
            ],
            "image/png": "[encoded data removed]"
          },
          "metadata": {}
        }
      ]
    },
    {
      "cell_type": "markdown",
      "source": [
        "**(22)** European and American put prices vs strike prices"
      ],
      "metadata": {
        "id": "_Z7QB9Z7bhhG"
      }
    },
    {
      "cell_type": "code",
      "source": [
        "vals_Aput=[]\n",
        "vals_Eput=[]\n",
        "K= np.arange(80,120)\n",
        "for k in K:\n",
        "  AP20, _, _ = option_pricing_binary_tree(100, k, sigma=0.2, T=3/12, N=50, r=0.05, opttype='P', opt='American')\n",
        "  EP20, _, _, _ = put_option_price_delta(100, k, T=3/12, r=0.05, sigma=0.2, N=50)\n",
        "  vals_Aput.append(round(AP20[0,0],2))\n",
        "  vals_Eput.append(round(EP20,2))\n",
        "\n",
        "plt.plot(K,vals_Eput, 'r', label = \"European Put\")\n",
        "plt.plot(K,vals_Aput, 'b', label  = \"American Put\")\n",
        "plt.legend()\n",
        "plt.ylabel(\"Put Option Price ($)\")\n",
        "plt.xlabel(\"Strike Price ($)\")\n",
        "plt.show()"
      ],
      "metadata": {
        "colab": {
          "base_uri": "https://localhost:8080/",
          "height": 449
        },
        "id": "ON94hlGdbl7h",
        "outputId": "839f5349-9d8c-443f-aa0e-3767d99b3f1c"
      },
      "execution_count": null,
      "outputs": [
        {
          "output_type": "display_data",
          "data": {
            "text/plain": [
              "<Figure size 640x480 with 1 Axes>"
            ],
            "image/png": "[encoded data removed]"
          },
          "metadata": {}
        }
      ]
    },
    {
      "cell_type": "markdown",
      "source": [
        "**(23)** There is put-call parity for European options at strike \\$110 in the trinomial model instead of at strike \\$100 in the binomial model"
      ],
      "metadata": {
        "id": "qAVB0YaZ2UX2"
      }
    },
    {
      "cell_type": "code",
      "source": [
        "print(\"Using C - P = S_0 - Ke^(-rT) for European options at\")\n",
        "for k in K:\n",
        "  print(f\"\"\"\n",
        "   Strike {k:.2f}, is there put-call parity?: {True if round(model_Euro_call.price(nb_steps) - model_Euro_put.price(nb_steps),2) == round(S_0 - k * np.exp(-r * T), 2) else False}\"\"\")"
      ],
      "metadata": {
        "id": "5628q_izfjVI"
      },
      "execution_count": null,
      "outputs": []
    },
    {
      "cell_type": "markdown",
      "source": [
        "**(24)** As expected, there is no applicable put-call parity for American options"
      ],
      "metadata": {
        "id": "aMYchqhS574Q"
      }
    },
    {
      "cell_type": "code",
      "source": [
        "def putcallpar (K):\n",
        "  if round(model.price(nb_steps, K, 'call', True) - model.price(nb_steps, K, 'put', True),2) == round(S_0 - K * np.exp(-r * T), 2):\n",
        "    print(f\"At strike {k:.2f}, put-call parity is satisfied\")\n",
        "  else:\n",
        "    print(f\"At strike {k:.2f}, there is no put-call parity\")\n",
        "\n",
        "print(\"Using C-P= S_0 - Ke^(-rT) for American options\")\n",
        "for k in K:\n",
        "  putcallpar(k)"
      ],
      "metadata": {
        "id": "r-VX1cFu55Ua"
      },
      "execution_count": null,
      "outputs": []
    },
    {
      "cell_type": "markdown",
      "source": [
        "##**Step3**\n"
      ],
      "metadata": {
        "id": "7INY6ZJdKYNr"
      }
    },
    {
      "cell_type": "markdown",
      "source": [
        "**(25)** Here we will work on real-world cases.\n",
        "\n",
        "**Step 1: Parameters**\n",
        "\n",
        "$S_0$ = 180\n",
        "\n",
        "$r$ = 0.02\n",
        "\n",
        "$\\sigma$ = 0.25\n",
        "\n",
        "$T$ = 0.5 years (6 months)\n",
        "\n",
        "K = 182\n",
        "\n",
        "$N$ = 3\n",
        "\n",
        "**Step 2: We construct binomial Tree Parameters**\n",
        "\n",
        "$\\Delta t = \\frac{N}{T} = 0.17 years$\n",
        "\n",
        "$u = e^{\\sigma \\sqrt {\\Delta t}}  \\approx 1.1075$\n",
        "\n",
        "$d = \\frac {1}{u} \\approx 0.9030$\n",
        "\n",
        "$p = \\frac {e^{r\\Delta t} - d} {u - d} \\approx 0.4908$\n",
        "\n",
        "**Step 3: We calculate stock price at each node**\n",
        "\n",
        "At t = 0: $S_0$ = 180\n",
        "\n",
        "At t = 1: $S_u$ = 180 X 1.1075 = 199.35 and\n",
        "\n",
        "$S_d$ = 180 X 0.9030 = 162.54\n",
        "\n",
        "At t = 2:\n",
        "\n",
        "\n",
        "\n",
        "*   $S_{uu} = 199.35 X 1.1075 \\approx$ 220.78\n",
        "\n",
        "*   $S_{ud} ,  S_{du} = 199.35 X 0.9030 \\approx$ 179.97\n",
        "*   $S_{dd} = 162.54 X 0.9030  \\approx$ 142.85\n",
        "\n",
        "\n",
        "At t = 3:\n",
        "\n",
        "\n",
        "\n",
        "*   $S_{uuu}  = 220.78 X 1.1075 \\approx$ 244.47\n",
        "\n",
        "*   $S_{uud}, S_{udu}, S_{duu} \\approx$ 199.35\n",
        "*   $S_{udd}, S_{dud}, S_{ddu} \\approx$ 162.54\n",
        "\n",
        "\n",
        "*   $S_{ddd} \\approx$ 132.57\n",
        "\n",
        "**Step 4: We calculate put option prices at maturity**\n",
        "\n",
        "Up-Up-Up: max(182 - 244.47, 0) = 0\n",
        "\n",
        "Up-Up-Down, Up-Down-Up, Down-Up-Up : max(182 - 199.35, 0) = 0\n",
        "\n",
        "Up-Down-Down, Down-Up-Down, Down-Down-Up : max(182 - 162.54, 0) = 19.46\n",
        "\n",
        "Down-Down-Down: max(182 - 132.57, 0) = 49.43\n",
        "\n",
        "**Step 5: Backward Induction**\n",
        "\n",
        "At t = 2:\n",
        "\n",
        "Up-Up: $e^{-r\\Delta t} (p \\cdot 0 + (1-p) \\cdot 0) = 0$\n",
        "\n",
        "Up-Down, Dwon-Up: $e^{-r\\Delta t} ( p \\cdot 0 + (1-p) \\cdot 19.46) \\approx 9.92$\n",
        "\n",
        "Down-Down: $e^{-r \\Delta t} (p \\cdot 19.46 + (1-p) \\cdot 49.43) \\approx 33.37$\n",
        "\n",
        "At t = 1:\n",
        "\n",
        "Up : $e^{-rt\\Delta t} ( p \\cdot 0 + (1-p) \\cdot 9.92) \\approx 5.06$\n",
        "\n",
        "Down : $e^{-r\\Delta t} (p \\cdot 9.92 + (1-p) \\cdot 33.38) \\approx 21.49$\n",
        "\n",
        "At t = 0:\n",
        "\n",
        "$e^{-r\\Delta t} (p \\cdot 5.06 + (1-p) \\cdot 21.49) \\approx 13.55$\n",
        "\n",
        "The price of European Price option is 13.55.\n",
        "\n",
        "Next, we will calculate the Deltas.\n",
        "\n",
        "**Delta Hedging Process for path D-U-D (as seller of Put Option)**\n",
        "\n",
        "At t = 0 (Initial Step)\n",
        "\n",
        "*   Stock Price ($S_0$) = 180\n",
        "\n",
        "*   Delta ($\\Delta_0$) = -0.47\n",
        "*   Action : Buy 0.42 shares to hedge\n",
        "\n",
        "\n",
        "*   Cash outflow : -85.07\n",
        "\n",
        "At t = 1, After First Move, Down\n",
        "\n",
        "*   Stock Price($S_d$) = 162.54\n",
        "\n",
        "*   Delta ($\\Delta_1) = -0.74\n",
        "*   Action : Buy an additional 0.27 shares to adjust the hedge\n",
        "\n",
        "\n",
        "*   Cahs Outflow : -44.24\n",
        "\n",
        "At t = 2 (After Second Move - Up)\n",
        "\n",
        "\n",
        "\n",
        "*   Stock Price ($S_{du}$) = 180\n",
        "\n",
        "*   Delta($\\Delta_2$) = -0.53\n",
        "*   Action : Sell 0.22 shares to adjust the hedge\n",
        "\n",
        "\n",
        "*   Cash Inflow : + 38.86\n",
        "\n",
        "At t = 3 (Final Step - Down)\n",
        "\n",
        "\n",
        "*   Stock Price($S_{dud}$) = 162.54\n",
        "\n",
        "*   Delta($\\Delta_3$) = -1 (at expiration for in-the-money put option)\n",
        "*   Action : Fulfill the obligation ss the put option seller. The put option is exercised.\n",
        "\n",
        "\n",
        "*   Cash Outflow : -10.27\n",
        "\n",
        "**Summary Table**\n",
        "\n",
        "\\begin{array}{|c|c|c|c|c|c|}\n",
        "\\hline\n",
        "\\text{Time (t)} & \\text{Stock Price (S)} & \\text {Delta} & \\text{Shares Held} & \\text{Cash Flow} & \\text{Cash Account} \\\\\n",
        "\\hline\n",
        "0 & 180 & -0.47 & +0.47 & -85.07 & -85.07 \\\\\n",
        "1 \\text{ (D)} & 162.54 & -0.74 & +0.27 & -44.24 & -129.31 \\\\\n",
        "2 \\text{ (U)} & 180 & -0.53 & -0.22 & +38.86 & -90.45 \\\\\n",
        "3 \\text{ (D)} & 162.54 & -1 & 0 & -10.27 & -100.74 \\\\\n",
        "\\hline\n",
        "\\end{array}\n",
        "\n",
        "\n",
        "\n",
        "\n",
        "\n",
        "\n",
        "\n",
        "\n",
        "\n",
        "\n",
        "\n",
        "\n",
        "\n",
        "\n",
        "\n",
        "\n",
        "\n",
        "\n",
        "\n",
        "\n",
        "\n",
        "\n"
      ],
      "metadata": {
        "id": "AjJn2uHFKffS"
      }
    },
    {
      "cell_type": "code",
      "source": [],
      "metadata": {
        "id": "3338_VUOKavS"
      },
      "execution_count": null,
      "outputs": []
    }
  ]
}