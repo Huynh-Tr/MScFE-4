{
 "cells": [
  {
   "cell_type": "code",
   "execution_count": 1,
   "metadata": {},
   "outputs": [],
   "source": [
    "import numpy as np"
   ]
  },
  {
   "cell_type": "code",
   "execution_count": 15,
   "metadata": {},
   "outputs": [],
   "source": [
    "def _vec_stock_price(nb):\n",
    "    # up = np.exp(sigma*np.sqrt(2*h))\n",
    "    # down = 1/up\n",
    "    up = 1.2\n",
    "    down = 0.8\n",
    "    S0 = 100\n",
    "    vec_u = up * np.ones(nb)\n",
    "    np.cumprod(vec_u, out=vec_u)\n",
    "    vec_d = down * np.ones(nb)\n",
    "    np.cumprod(vec_d, out=vec_d)\n",
    "    res = np.concatenate((vec_d[::-1],[1.0],vec_u))\n",
    "    return res*S0"
   ]
  },
  {
   "cell_type": "code",
   "execution_count": 85,
   "metadata": {},
   "outputs": [],
   "source": [
    "p = {i:_vec_stock_price(i) for i in range(3)}\n",
    "    "
   ]
  },
  {
   "cell_type": "code",
   "execution_count": 87,
   "metadata": {},
   "outputs": [
    {
     "name": "stdout",
     "output_type": "stream",
     "text": [
      "0 [100.]\n",
      "1 [ 80. 100. 120.]\n",
      "2 [ 64.  80. 100. 120. 144.]\n"
     ]
    }
   ],
   "source": [
    "a = 0\n",
    "for i,j in p.items():\n",
    "    print(i,j)"
   ]
  },
  {
   "cell_type": "markdown",
   "metadata": {},
   "source": [
    "# M1"
   ]
  },
  {
   "cell_type": "markdown",
   "metadata": {},
   "source": [
    "## L1"
   ]
  },
  {
   "cell_type": "code",
   "execution_count": 29,
   "metadata": {},
   "outputs": [
    {
     "data": {
      "text/plain": [
       "0.5536870912"
      ]
     },
     "execution_count": 29,
     "metadata": {},
     "output_type": "execute_result"
    }
   ],
   "source": [
    "0.5 * (0.8**10) + (1-0.5) * (1.2**0)"
   ]
  },
  {
   "cell_type": "code",
   "execution_count": 50,
   "metadata": {},
   "outputs": [
    {
     "data": {
      "text/plain": [
       "'3.14'"
      ]
     },
     "execution_count": 50,
     "metadata": {},
     "output_type": "execute_result"
    }
   ],
   "source": [
    "x = np.pi\n",
    "f'{x:.2f}'"
   ]
  },
  {
   "cell_type": "code",
   "execution_count": 71,
   "metadata": {},
   "outputs": [
    {
     "data": {
      "text/plain": [
       "(23.07,\n",
       " array([[ 23.07,   0.  ,   0.  ,   0.  ,   0.  ,   0.  ,   0.  ,   0.  ,\n",
       "           0.  ],\n",
       "        [ 10.93,  35.22,   0.  ,   0.  ,   0.  ,   0.  ,   0.  ,   0.  ,\n",
       "           0.  ],\n",
       "        [  3.98,  17.87,  52.56,   0.  ,   0.  ,   0.  ,   0.  ,   0.  ,\n",
       "           0.  ],\n",
       "        [  0.85,   7.12,  28.62,  76.5 ,   0.  ,   0.  ,   0.  ,   0.  ,\n",
       "           0.  ],\n",
       "        [  0.  ,   1.71,  12.54,  44.71, 108.29,   0.  ,   0.  ,   0.  ,\n",
       "           0.  ],\n",
       "        [  0.  ,   0.  ,   3.42,  21.66,  67.77, 148.82,   0.  ,   0.  ,\n",
       "           0.  ],\n",
       "        [  0.  ,   0.  ,   0.  ,   6.85,  36.48,  99.06, 198.59,   0.  ,\n",
       "           0.  ],\n",
       "        [  0.  ,   0.  ,   0.  ,   0.  ,  13.7 ,  59.25, 138.88, 258.31,\n",
       "           0.  ],\n",
       "        [  0.  ,   0.  ,   0.  ,   0.  ,   0.  ,  27.4 ,  91.1 , 186.65,\n",
       "         329.98]]),\n",
       " array([[100.  ,   0.  ,   0.  ,   0.  ,   0.  ,   0.  ,   0.  ,   0.  ,\n",
       "           0.  ],\n",
       "        [ 80.  , 120.  ,   0.  ,   0.  ,   0.  ,   0.  ,   0.  ,   0.  ,\n",
       "           0.  ],\n",
       "        [ 64.  ,  96.  , 144.  ,   0.  ,   0.  ,   0.  ,   0.  ,   0.  ,\n",
       "           0.  ],\n",
       "        [ 51.2 ,  76.8 , 115.2 , 172.8 ,   0.  ,   0.  ,   0.  ,   0.  ,\n",
       "           0.  ],\n",
       "        [ 40.96,  61.44,  92.16, 138.24, 207.36,   0.  ,   0.  ,   0.  ,\n",
       "           0.  ],\n",
       "        [ 32.77,  49.15,  73.73, 110.59, 165.89, 248.83,   0.  ,   0.  ,\n",
       "           0.  ],\n",
       "        [ 26.21,  39.32,  58.98,  88.47, 132.71, 199.07, 298.6 ,   0.  ,\n",
       "           0.  ],\n",
       "        [ 20.97,  31.46,  47.19,  70.78, 106.17, 159.25, 238.88, 358.32,\n",
       "           0.  ],\n",
       "        [ 16.78,  25.17,  37.75,  56.62,  84.93, 127.4 , 191.1 , 286.65,\n",
       "         429.98]]))"
      ]
     },
     "execution_count": 71,
     "metadata": {},
     "output_type": "execute_result"
    }
   ],
   "source": [
    "def binomial_call_full(S_ini, K, d, u, T, N, r=0):\n",
    "    dt = T/N\n",
    "    S = np.zeros(shape=(N+1,N+1))\n",
    "    C = np.zeros(shape=(N+1,N+1))\n",
    "    p = (np.exp(r*dt) - d) / (u-d)\n",
    "    for i in range(N+1):\n",
    "        C[N, i] = f'{max(S_ini * (u ** i) * (d ** (N-i)) - K, 0):.2f}'\n",
    "        S[N, i] = f'{S_ini * (u ** i) * (d ** (N-i)):.2f}'        \n",
    "    for j in range(N-1, -1, -1):\n",
    "        for i in range(j+1):\n",
    "            C[j, i] = f'{np.exp(-r*dt) * (p * C[j+1, i+1] + (1-p) * C[j+1, i]):.2f}'\n",
    "            S[j, i] = f'{S_ini * (d ** (j-i)) * (u ** (i)):.2f}'\n",
    "    # print(S[:2], S[-2:], C[0:2], C[-2:], sep='\\n\\n')\n",
    "    return C[0,0], C, S\n",
    "\n",
    "binomial_call_full(100, 100, 0.8, 1.2, 10, 8)"
   ]
  },
  {
   "cell_type": "markdown",
   "metadata": {},
   "source": [
    "## L2"
   ]
  },
  {
   "cell_type": "code",
   "execution_count": 72,
   "metadata": {},
   "outputs": [],
   "source": [
    "def binomial_put_full(S_ini, K, d, u, T, N, r=0):\n",
    "    dt = T/N\n",
    "    S = np.zeros(shape=(N+1,N+1))\n",
    "    P = np.zeros(shape=(N+1,N+1))\n",
    "    p = (np.exp(r*dt) - d) / (u-d)\n",
    "    for i in range(N+1):\n",
    "        P[N, i] = f'{max(K - S_ini * (u ** i) * (d ** (N-i)), 0):.2f}'\n",
    "        S[N, i] = f'{S_ini * (u ** i) * (d ** (N-i)):.2f}'        \n",
    "    for j in range(N-1, -1, -1):\n",
    "        for i in range(j+1):\n",
    "            P[j, i] = f'{np.exp(-r*dt) * (p * P[j+1, i+1] + (1-p) * P[j+1, i]):.2f}'\n",
    "            S[j, i] = f'{S_ini * (d ** (j-i)) * (u ** (i)):.2f}'\n",
    "    # print(S[:2,:10], S[-2:,:10], P[0:2,:10], P[-2:,:10], sep='\\n\\n')\n",
    "    return P[0,0], P, S\n",
    "\n",
    "put_price, P, S = binomial_put_full(36, 36, 0.7, 1.1, 50, 50, 0.01)"
   ]
  },
  {
   "cell_type": "code",
   "execution_count": 76,
   "metadata": {},
   "outputs": [
    {
     "name": "stdout",
     "output_type": "stream",
     "text": [
      "call price:  29.38\n",
      "put price:  19.38\n"
     ]
    }
   ],
   "source": [
    "C0, C, S = binomial_call_full(100, 90, 0.8, 1.2, 1, 10, 0)\n",
    "P0, P, S = binomial_put_full(100, 90, 0.8, 1.2, 1, 10, 0)\n",
    "\n",
    "print('call price: ', C0)\n",
    "print('put price: ', P0)"
   ]
  },
  {
   "cell_type": "code",
   "execution_count": 82,
   "metadata": {},
   "outputs": [
    {
     "data": {
      "text/plain": [
       "-0.0"
      ]
     },
     "execution_count": 82,
     "metadata": {},
     "output_type": "execute_result"
    }
   ],
   "source": [
    "round(C0 + 90 * np.exp(0) - 100 - P0, 2)"
   ]
  },
  {
   "cell_type": "code",
   "execution_count": 86,
   "metadata": {},
   "outputs": [
    {
     "name": "stdout",
     "output_type": "stream",
     "text": [
      "6.5\n",
      "16.5\n"
     ]
    }
   ],
   "source": [
    "put_price, P, S = binomial_put_full(S_ini=100, K=90, u=1.2, d=0.8, r=0, N=2, T=1)\n",
    "call_price, C, S = binomial_call_full(S_ini=100, K=90, u=1.2, d=0.8, r=0, N=2, T=1)\n",
    "\n",
    "print(put_price)\n",
    "print(call_price)"
   ]
  },
  {
   "cell_type": "code",
   "execution_count": 87,
   "metadata": {},
   "outputs": [
    {
     "name": "stdout",
     "output_type": "stream",
     "text": [
      "[[100.   0.   0.]\n",
      " [ 80. 120.   0.]\n",
      " [ 64.  96. 144.]]\n",
      "[[16.5  0.   0. ]\n",
      " [ 3.  30.   0. ]\n",
      " [ 0.   6.  54. ]]\n",
      "[[ 6.5  0.   0. ]\n",
      " [13.   0.   0. ]\n",
      " [26.   0.   0. ]]\n"
     ]
    }
   ],
   "source": [
    "print(S)\n",
    "print(C)\n",
    "print(P)"
   ]
  },
  {
   "cell_type": "code",
   "execution_count": 90,
   "metadata": {},
   "outputs": [
    {
     "data": {
      "text/plain": [
       "array([[100, 100, 100],\n",
       "       [100, 100, 100],\n",
       "       [100, 100, 100]])"
      ]
     },
     "execution_count": 90,
     "metadata": {},
     "output_type": "execute_result"
    }
   ],
   "source": [
    "np.full(C.shape,100)"
   ]
  },
  {
   "cell_type": "code",
   "execution_count": 93,
   "metadata": {},
   "outputs": [
    {
     "data": {
      "text/plain": [
       "array([[ 0., 90., 90.],\n",
       "       [ 0.,  0., 90.],\n",
       "       [ 0.,  0.,  0.]])"
      ]
     },
     "execution_count": 93,
     "metadata": {},
     "output_type": "execute_result"
    }
   ],
   "source": [
    "C + np.full(C.shape, 90) - S - P"
   ]
  },
  {
   "cell_type": "markdown",
   "metadata": {},
   "source": [
    "## L3"
   ]
  },
  {
   "cell_type": "code",
   "execution_count": 84,
   "metadata": {},
   "outputs": [],
   "source": [
    "def binomial_call_full(S_ini, K, d, u, T, N, r=0):\n",
    "    dt = T/N\n",
    "    S = np.zeros(shape=(N+1,N+1))\n",
    "    C = np.zeros(shape=(N+1,N+1))\n",
    "    delta = np.zeros(shape=(N,N))\n",
    "    p = (np.exp(r*dt) - d) / (u-d)\n",
    "    for i in range(N+1):\n",
    "        C[N,i] = max(S_ini * (u ** i) * (d ** (N-i)) - K, 0)\n",
    "        S[N,i] = S_ini * (u ** i) * (d ** (N-i))        \n",
    "    for j in range(N-1, -1, -1):\n",
    "        for i in range(j+1):\n",
    "            C[j,i] = np.exp(-r*dt) * (p * C[j+1, i+1] + (1-p) * C[j+1, i])\n",
    "            S[j,i] = S_ini * (d ** (j-i)) * (u ** (i))\n",
    "            delta[j,i] = (C[j+1, i+1] - C[j+1,i]) / (S[j+1,i+1]-S[j+1,i])\n",
    "    return C[0,0], C, S, delta"
   ]
  },
  {
   "cell_type": "code",
   "execution_count": 161,
   "metadata": {},
   "outputs": [
    {
     "name": "stderr",
     "output_type": "stream",
     "text": [
      "C:\\Users\\huynh.th\\AppData\\Local\\Temp\\ipykernel_21648\\3041049596.py:14: RuntimeWarning: invalid value encountered in scalar divide\n",
      "  delta[j,i] = (C[j+1, i+1] - C[j+1,i]) / (S[j+1,i+1]-S[j+1,i])\n",
      "C:\\Users\\huynh.th\\AppData\\Local\\Temp\\ipykernel_21648\\3041049596.py:14: RuntimeWarning: divide by zero encountered in scalar divide\n",
      "  delta[j,i] = (C[j+1, i+1] - C[j+1,i]) / (S[j+1,i+1]-S[j+1,i])\n"
     ]
    }
   ],
   "source": [
    "call_price, C, S, delta = binomial_call_full(S_ini=100, K=90, u=1.2, d=0.8, r=0, N=1000, T=1)"
   ]
  },
  {
   "cell_type": "code",
   "execution_count": 162,
   "metadata": {},
   "outputs": [
    {
     "data": {
      "text/plain": [
       "1.5179100891722457e+81"
      ]
     },
     "execution_count": 162,
     "metadata": {},
     "output_type": "execute_result"
    }
   ],
   "source": [
    "C[-1][C[-1]>0][-1]"
   ]
  },
  {
   "cell_type": "code",
   "execution_count": 164,
   "metadata": {},
   "outputs": [
    {
     "data": {
      "text/plain": [
       "0.0"
      ]
     },
     "execution_count": 164,
     "metadata": {},
     "output_type": "execute_result"
    }
   ],
   "source": [
    "S[-1][S[-1]>0][-1]-C[-1][C[-1]>0][-1]"
   ]
  },
  {
   "cell_type": "code",
   "execution_count": 168,
   "metadata": {},
   "outputs": [
    {
     "data": {
      "text/plain": [
       "(450,)"
      ]
     },
     "execution_count": 168,
     "metadata": {},
     "output_type": "execute_result"
    }
   ],
   "source": [
    "delta[-1][delta[-1]>0].shape"
   ]
  },
  {
   "cell_type": "markdown",
   "metadata": {},
   "source": [
    "## L4"
   ]
  },
  {
   "cell_type": "code",
   "execution_count": 35,
   "metadata": {},
   "outputs": [],
   "source": [
    "def binomial_call_full(S_ini, K, sigma, T, N, r=0):\n",
    "    dt = T/N # define time step\n",
    "    u = np.exp(sigma * np.sqrt(dt)) # define u\n",
    "    d = np.exp(-sigma * np.sqrt(dt)) # define d\n",
    "    S = np.zeros(shape=(N+1,N+1)) # underlying price\n",
    "    C = np.zeros(shape=(N+1,N+1)) # call price\n",
    "    delta = np.zeros(shape=(N,N)) # delta\n",
    "    p = (np.exp(r*dt) - d) / (u-d) # risk neutral\n",
    "    for i in range(N+1):\n",
    "        C[N,i] = max(S_ini * (u ** i) * (d ** (N-i)) - K, 0)\n",
    "        S[N,i] = S_ini * (u ** i) * (d ** (N-i))\n",
    "    for j in range(N-1, -1, -1):\n",
    "        for i in range(j+1):\n",
    "            C[j,i] = np.exp(-r*dt) * (p * C[j+1, i+1] + (1-p) * C[j+1, i])\n",
    "            S[j,i] = S_ini * (d ** (j-i)) * (u ** (i))\n",
    "            delta[j,i] = (C[j+1, i+1] - C[j+1,i]) / (S[j+1,i+1]-S[j+1,i])\n",
    "    return C[0,0], C, S, delta"
   ]
  },
  {
   "cell_type": "code",
   "execution_count": 200,
   "metadata": {},
   "outputs": [],
   "source": [
    "call_price, C, S, delta = binomial_call_full(100, 90, 0.3, 1, 1000)"
   ]
  },
  {
   "cell_type": "code",
   "execution_count": 208,
   "metadata": {},
   "outputs": [],
   "source": [
    "price = []\n",
    "for i in range(1, 2001, 100):\n",
    "    call_price, C, S, delta = binomial_call_full(100, 90, 0.3, 1, i)\n",
    "    price.append(f'{call_price:.2f}')"
   ]
  },
  {
   "cell_type": "code",
   "execution_count": 209,
   "metadata": {},
   "outputs": [
    {
     "data": {
      "text/plain": [
       "['19.14',\n",
       " '17.03',\n",
       " '17.00',\n",
       " '17.02',\n",
       " '17.01',\n",
       " '17.02',\n",
       " '17.01',\n",
       " '17.01',\n",
       " '17.02',\n",
       " '17.01',\n",
       " '17.01',\n",
       " '17.01',\n",
       " '17.01',\n",
       " '17.01',\n",
       " '17.01',\n",
       " '17.01',\n",
       " '17.01',\n",
       " '17.01',\n",
       " '17.01',\n",
       " '17.01']"
      ]
     },
     "execution_count": 209,
     "metadata": {},
     "output_type": "execute_result"
    }
   ],
   "source": [
    "price"
   ]
  },
  {
   "cell_type": "markdown",
   "metadata": {},
   "source": [
    "# M2"
   ]
  },
  {
   "cell_type": "markdown",
   "metadata": {},
   "source": [
    "## L1"
   ]
  },
  {
   "cell_type": "code",
   "execution_count": 2,
   "metadata": {},
   "outputs": [],
   "source": [
    "def american_option(S_ini, K, T, r, u, d, N, opttype):\n",
    "    dt = T/N # define dt\n",
    "    C = np.zeros([N+1,N+1])\n",
    "    S = np.zeros([N+1,N+1])\n",
    "    p = (np.exp(r*dt)-d)/(u-d)\n",
    "\n",
    "    for i in range(N+1):\n",
    "        S[N, i] = S_ini * (u ** i * d ** (N-i))\n",
    "        if opttype == \"C\":\n",
    "            C[N, i] = max(S_ini * (u ** i * d ** (N-i)) - K, 0)\n",
    "        else:\n",
    "            C[N, i] = max(-S_ini * (u ** i * d ** (N-i)) + K, 0)\n",
    "\n",
    "    for j in range(N-1, -1, -1):\n",
    "        for i in range(j+1):\n",
    "            C[j, i] = np.exp(-r*dt) * (p * C[j+1,i+1] + (1-p) * C[j+1,i])\n",
    "            S[j, i] = S_ini * (u ** i * d ** (j-i))\n",
    "            if opttype == \"C\":\n",
    "                C[j, i] = max(C[j,i], S[j,i]-K)\n",
    "            else:\n",
    "                C[j, i] = max(C[j,i], -S[j,i]+K)\n",
    "            \n",
    "    return C[0,0], S, C\n",
    "\n",
    "optionprice, S, C = american_option(145, 100, 100, 0.1, 1.2, 0.8, 100, \"P\")"
   ]
  },
  {
   "cell_type": "code",
   "execution_count": 3,
   "metadata": {},
   "outputs": [
    {
     "data": {
      "text/plain": [
       "0.662571812972355"
      ]
     },
     "execution_count": 3,
     "metadata": {},
     "output_type": "execute_result"
    }
   ],
   "source": [
    "optionprice"
   ]
  },
  {
   "cell_type": "code",
   "execution_count": 5,
   "metadata": {},
   "outputs": [],
   "source": [
    "def american_option_sigma(S_ini, K, sigma, T, N, r, opttype):\n",
    "    dt = T/N # define dt\n",
    "    C = np.zeros([N+1,N+1])\n",
    "    S = np.zeros([N+1,N+1])\n",
    "    u = np.exp(sigma*np.sqrt(dt))\n",
    "    d = np.exp(-sigma*np.sqrt(dt))\n",
    "    p = (np.exp(r*dt)-d)/(u-d)\n",
    "\n",
    "    for i in range(N+1):\n",
    "        S[N, i] = S_ini * (u ** i * d ** (N-i))\n",
    "        if opttype == \"C\":\n",
    "            C[N, i] = max(S_ini * (u ** i * d ** (N-i)) - K, 0)\n",
    "        else:\n",
    "            C[N, i] = max(-S_ini * (u ** i * d ** (N-i)) + K, 0)\n",
    "\n",
    "    for j in range(N-1, -1, -1):\n",
    "        for i in range(j+1):\n",
    "            C[j, i] = np.exp(-r*dt) * (p * C[j+1,i+1] + (1-p) * C[j+1,i])\n",
    "            S[j, i] = S_ini * (u ** i * d ** (j-i))\n",
    "            if opttype == \"C\":\n",
    "                C[j, i] = max(C[j,i], S[j,i]-K)\n",
    "            else:\n",
    "                C[j, i] = max(C[j,i], -S[j,i]+K)\n",
    "            \n",
    "    return C[0,0], S, C\n",
    "\n",
    "optionprice, S, C = american_option_sigma(100, 90, 0.3, 10, 10, 0, \"C\")"
   ]
  },
  {
   "cell_type": "code",
   "execution_count": 6,
   "metadata": {},
   "outputs": [
    {
     "data": {
      "text/plain": [
       "39.899240766330934"
      ]
     },
     "execution_count": 6,
     "metadata": {},
     "output_type": "execute_result"
    }
   ],
   "source": [
    "optionprice"
   ]
  },
  {
   "cell_type": "code",
   "execution_count": 106,
   "metadata": {},
   "outputs": [
    {
     "data": {
      "text/plain": [
       "array([[50.        ,  0.        ,  0.        ],\n",
       "       [37.04091103, 67.49294038,  0.        ],\n",
       "       [27.4405818 , 50.        , 91.10594002]])"
      ]
     },
     "execution_count": 106,
     "metadata": {},
     "output_type": "execute_result"
    }
   ],
   "source": [
    "S"
   ]
  },
  {
   "cell_type": "code",
   "execution_count": 107,
   "metadata": {},
   "outputs": [
    {
     "data": {
      "text/plain": [
       "array([[ 7.4284019 ,  0.        ,  0.        ],\n",
       "       [14.95908897,  0.93269783,  0.        ],\n",
       "       [24.5594182 ,  2.        ,  0.        ]])"
      ]
     },
     "execution_count": 107,
     "metadata": {},
     "output_type": "execute_result"
    }
   ],
   "source": [
    "C"
   ]
  },
  {
   "cell_type": "code",
   "execution_count": 111,
   "metadata": {},
   "outputs": [],
   "source": [
    "option_price, C, S = american_option(145, 100, 1.2, 0.8, 100, 100, 0, 'P')"
   ]
  },
  {
   "cell_type": "code",
   "execution_count": 112,
   "metadata": {},
   "outputs": [
    {
     "data": {
      "text/plain": [
       "62.58180350380169"
      ]
     },
     "execution_count": 112,
     "metadata": {},
     "output_type": "execute_result"
    }
   ],
   "source": [
    "option_price"
   ]
  },
  {
   "cell_type": "markdown",
   "metadata": {},
   "source": [
    "## L2"
   ]
  },
  {
   "cell_type": "code",
   "execution_count": 100,
   "metadata": {},
   "outputs": [],
   "source": [
    "def american_option_delta(S0, K, T, r, u, d, N, opttype='C'):\n",
    "    dt = T/N\n",
    "    S = np.zeros([N+1,N+1])\n",
    "    C = np.zeros([N+1,N+1])\n",
    "    p = (np.exp(r*dt)-d)/(u-d)\n",
    "    delta = np.zeros([N,N])\n",
    "    \n",
    "    for i in range(N+1):\n",
    "        S[N,i] = S0 * (u ** i) * (d ** (N-i))\n",
    "        if opttype == 'C':\n",
    "            C[N,i] = max(S[N,i] - K, 0)\n",
    "        else:\n",
    "            C[N,i] = max(-S[N,i] + K, 0)\n",
    "    for j in range(N-1, -1, -1):\n",
    "        for i in range(j+1):\n",
    "            S[j,i] = S0  * (u ** i) * (d ** (j-i))\n",
    "            C[j,i] = np.exp(-r*dt) * (p * C[j+1,i+1] + (1-p) * C[j+1,i])\n",
    "            if opttype == 'C':\n",
    "                C[j,i] = max(C[j,i], S[j,i]-K)\n",
    "            else:\n",
    "                C[j,i] = max(C[j,i], -S[j,i]+K)\n",
    "\n",
    "            delta[j,i] = (C[j+1,i+1]-C[j+1,i])/(S[j+1,i+1]-S[j+1,i])\n",
    "\n",
    "    return C[0,0], S, C, delta"
   ]
  },
  {
   "cell_type": "code",
   "execution_count": 95,
   "metadata": {},
   "outputs": [],
   "source": [
    "def european_option_delta(S0, K, T, r, u, d, N, opttype='C'):\n",
    "    dt = T/N\n",
    "    S = np.zeros([N+1,N+1])\n",
    "    C = np.zeros([N+1,N+1])\n",
    "    p = (np.exp(r*dt)-d)/(u-d)\n",
    "    delta = np.zeros([N,N])\n",
    "    \n",
    "    for i in range(N+1):\n",
    "        S[N,i] = S0 * (u ** i) * (d ** (N-i))\n",
    "        if opttype == 'C':\n",
    "            C[N,i] = max(S[N,i] - K, 0)\n",
    "        else:\n",
    "            C[N,i] = max(-S[N,i] + K, 0)\n",
    "    for j in range(N-1, -1, -1):\n",
    "        for i in range(j+1):\n",
    "            S[j,i] = S0  * (u ** i) * (d ** (j-i))\n",
    "            C[j,i] = np.exp(-r*dt) * (p * C[j+1,i+1] + (1-p) * C[j+1,i])\n",
    "\n",
    "            delta[j,i] = (C[j+1,i+1]-C[j+1,i])/(S[j+1,i+1]-S[j+1,i])\n",
    "\n",
    "    return C[0,0], S, C, delta"
   ]
  },
  {
   "cell_type": "code",
   "execution_count": 108,
   "metadata": {},
   "outputs": [],
   "source": [
    "USprice, USS, USC, USdelta = american_option_delta(50, 52, 5, 0.05, 1.2, 0.8, 5, 'P')\n",
    "call_price, S, C, delta = european_option_delta(50, 52, 5, 0.05, 1.2, 0.8, 5, 'P')\n"
   ]
  },
  {
   "cell_type": "code",
   "execution_count": 111,
   "metadata": {},
   "outputs": [
    {
     "name": "stdout",
     "output_type": "stream",
     "text": [
      "[[ 5.78969979  0.          0.          0.          0.          0.        ]\n",
      " [12.          2.58633318  0.          0.          0.          0.        ]\n",
      " [20.          6.06131284  0.74056474  0.          0.          0.        ]\n",
      " [26.4        13.6         2.09383458  0.          0.          0.        ]\n",
      " [31.52       21.28        5.92        0.          0.          0.        ]\n",
      " [35.616      27.424      15.136       0.          0.          0.        ]]\n",
      "\n",
      "[[ 3.87047533  0.          0.          0.          0.          0.        ]\n",
      " [ 7.51388712  2.02982099  0.          0.          0.          0.        ]\n",
      " [13.46003388  4.60760062  0.6696889   0.          0.          0.        ]\n",
      " [21.45154574  9.82840043  1.8934439   0.          0.          0.        ]\n",
      " [28.98393007 18.74393007  5.35342571  0.          0.          0.        ]\n",
      " [35.616      27.424      15.136       0.          0.          0.        ]]\n"
     ]
    }
   ],
   "source": [
    "print(USC,C, sep='\\n\\n')"
   ]
  },
  {
   "cell_type": "code",
   "execution_count": 113,
   "metadata": {},
   "outputs": [
    {
     "name": "stdout",
     "output_type": "stream",
     "text": [
      "[[-0.47068334  0.          0.          0.          0.        ]\n",
      " [-0.87116795 -0.22169784  0.          0.          0.        ]\n",
      " [-1.         -0.59927945 -0.07270259  0.          0.        ]\n",
      " [-1.         -1.         -0.25694444  0.          0.        ]\n",
      " [-1.         -1.         -0.82118056  0.          0.        ]]\n",
      "\n",
      "[[-0.27420331  0.          0.          0.          0.        ]\n",
      " [-0.55327708 -0.16407966  0.          0.          0.        ]\n",
      " [-0.90805823 -0.41327899 -0.06574458  0.          0.        ]\n",
      " [-1.         -0.87177763 -0.23235355  0.          0.        ]\n",
      " [-1.         -1.         -0.82118056  0.          0.        ]]\n"
     ]
    }
   ],
   "source": [
    "print(USdelta,delta, sep='\\n\\n')"
   ]
  },
  {
   "cell_type": "markdown",
   "metadata": {},
   "source": [
    "## L4"
   ]
  },
  {
   "cell_type": "code",
   "execution_count": 107,
   "metadata": {},
   "outputs": [
    {
     "data": {
      "text/plain": [
       "16.87338112892792"
      ]
     },
     "execution_count": 107,
     "metadata": {},
     "output_type": "execute_result"
    }
   ],
   "source": [
    "def call_option_mc(S0 ,K, T, r, sigma, N, M):\n",
    "    dt = T/N\n",
    "    u = np.exp(sigma * np.sqrt(dt))\n",
    "    d = np.exp(-sigma * np.sqrt(dt))\n",
    "    p = (np.exp(r*dt) - d)/(u-d)\n",
    "    C = np.zeros([M])\n",
    "    S = np.zeros([M, N+1])\n",
    "    S[:, 0] = S0\n",
    "\n",
    "    for j in range(0, M):\n",
    "        random = np.random.binomial(\n",
    "            1, p, N+1\n",
    "        )\n",
    "        for i in range(1,N+1):\n",
    "            if random[i] == 1:\n",
    "                S[j,i] = S[j, i-1]*u\n",
    "            else:\n",
    "                S[j,i] = S[j, i-1]*d\n",
    "        \n",
    "        C[j] = np.exp(-r * T) * max(S[j, N] - K, 0)\n",
    "    return S, C\n",
    "\n",
    "S, C = call_option_mc(100, 90, 1, 0, 0.3, 2500, 15000)\n",
    "C.mean()"
   ]
  },
  {
   "cell_type": "code",
   "execution_count": 108,
   "metadata": {},
   "outputs": [
    {
     "ename": "KeyboardInterrupt",
     "evalue": "",
     "output_type": "error",
     "traceback": [
      "\u001b[0;31m---------------------------------------------------------------------------\u001b[0m",
      "\u001b[0;31mKeyboardInterrupt\u001b[0m                         Traceback (most recent call last)",
      "\u001b[1;32m/Users/huynhtruong/Library/CloudStorage/OneDrive-y62x2/Invest/MScFE/Course 4 Derivative Pricing/Derivative Pricing.ipynb Cell 44\u001b[0m line \u001b[0;36m5\n\u001b[1;32m      <a href='vscode-notebook-cell:/Users/huynhtruong/Library/CloudStorage/OneDrive-y62x2/Invest/MScFE/Course%204%20Derivative%20Pricing/Derivative%20Pricing.ipynb#X61sZmlsZQ%3D%3D?line=2'>3</a>\u001b[0m M \u001b[39m=\u001b[39m np\u001b[39m.\u001b[39marange(\u001b[39m1000\u001b[39m,\u001b[39m15000\u001b[39m,\u001b[39m1000\u001b[39m)\n\u001b[1;32m      <a href='vscode-notebook-cell:/Users/huynhtruong/Library/CloudStorage/OneDrive-y62x2/Invest/MScFE/Course%204%20Derivative%20Pricing/Derivative%20Pricing.ipynb#X61sZmlsZQ%3D%3D?line=3'>4</a>\u001b[0m \u001b[39mfor\u001b[39;00m i \u001b[39min\u001b[39;00m \u001b[39mrange\u001b[39m(\u001b[39mlen\u001b[39m(M)):\n\u001b[0;32m----> <a href='vscode-notebook-cell:/Users/huynhtruong/Library/CloudStorage/OneDrive-y62x2/Invest/MScFE/Course%204%20Derivative%20Pricing/Derivative%20Pricing.ipynb#X61sZmlsZQ%3D%3D?line=4'>5</a>\u001b[0m     S, C \u001b[39m=\u001b[39m call_option_mc(\u001b[39m100\u001b[39;49m, \u001b[39m90\u001b[39;49m, \u001b[39m1\u001b[39;49m, \u001b[39m0\u001b[39;49m, \u001b[39m0.3\u001b[39;49m, \u001b[39m2500\u001b[39;49m, M[i])\n\u001b[1;32m      <a href='vscode-notebook-cell:/Users/huynhtruong/Library/CloudStorage/OneDrive-y62x2/Invest/MScFE/Course%204%20Derivative%20Pricing/Derivative%20Pricing.ipynb#X61sZmlsZQ%3D%3D?line=5'>6</a>\u001b[0m     price\u001b[39m.\u001b[39mappend(np\u001b[39m.\u001b[39mmean(C))\n",
      "\u001b[1;32m/Users/huynhtruong/Library/CloudStorage/OneDrive-y62x2/Invest/MScFE/Course 4 Derivative Pricing/Derivative Pricing.ipynb Cell 44\u001b[0m line \u001b[0;36m1\n\u001b[1;32m     <a href='vscode-notebook-cell:/Users/huynhtruong/Library/CloudStorage/OneDrive-y62x2/Invest/MScFE/Course%204%20Derivative%20Pricing/Derivative%20Pricing.ipynb#X61sZmlsZQ%3D%3D?line=15'>16</a>\u001b[0m             S[j,i] \u001b[39m=\u001b[39m S[j, i\u001b[39m-\u001b[39m\u001b[39m1\u001b[39m]\u001b[39m*\u001b[39mu\n\u001b[1;32m     <a href='vscode-notebook-cell:/Users/huynhtruong/Library/CloudStorage/OneDrive-y62x2/Invest/MScFE/Course%204%20Derivative%20Pricing/Derivative%20Pricing.ipynb#X61sZmlsZQ%3D%3D?line=16'>17</a>\u001b[0m         \u001b[39melse\u001b[39;00m:\n\u001b[0;32m---> <a href='vscode-notebook-cell:/Users/huynhtruong/Library/CloudStorage/OneDrive-y62x2/Invest/MScFE/Course%204%20Derivative%20Pricing/Derivative%20Pricing.ipynb#X61sZmlsZQ%3D%3D?line=17'>18</a>\u001b[0m             S[j,i] \u001b[39m=\u001b[39m S[j, i\u001b[39m-\u001b[39m\u001b[39m1\u001b[39m]\u001b[39m*\u001b[39md\n\u001b[1;32m     <a href='vscode-notebook-cell:/Users/huynhtruong/Library/CloudStorage/OneDrive-y62x2/Invest/MScFE/Course%204%20Derivative%20Pricing/Derivative%20Pricing.ipynb#X61sZmlsZQ%3D%3D?line=19'>20</a>\u001b[0m     C[j] \u001b[39m=\u001b[39m np\u001b[39m.\u001b[39mexp(\u001b[39m-\u001b[39mr \u001b[39m*\u001b[39m T) \u001b[39m*\u001b[39m \u001b[39mmax\u001b[39m(S[j, N] \u001b[39m-\u001b[39m K, \u001b[39m0\u001b[39m)\n\u001b[1;32m     <a href='vscode-notebook-cell:/Users/huynhtruong/Library/CloudStorage/OneDrive-y62x2/Invest/MScFE/Course%204%20Derivative%20Pricing/Derivative%20Pricing.ipynb#X61sZmlsZQ%3D%3D?line=20'>21</a>\u001b[0m \u001b[39mreturn\u001b[39;00m S, C\n",
      "\u001b[0;31mKeyboardInterrupt\u001b[0m: "
     ]
    }
   ],
   "source": [
    "import matplotlib.pyplot as plt\n",
    "price = []\n",
    "M = np.arange(1000,15000,1000)\n",
    "for i in range(len(M)):\n",
    "    S, C = call_option_mc(100, 90, 1, 0, 0.3, 2500, M[i])\n",
    "    price.append(np.mean(C))\n"
   ]
  },
  {
   "cell_type": "code",
   "execution_count": 139,
   "metadata": {},
   "outputs": [
    {
     "data": {
      "text/plain": [
       "(14.0, 23.0)"
      ]
     },
     "execution_count": 139,
     "metadata": {},
     "output_type": "execute_result"
    },
    {
     "data": {
      "image/png": "[encoded data removed]",
      "text/plain": [
       "<Figure size 640x480 with 1 Axes>"
      ]
     },
     "metadata": {},
     "output_type": "display_data"
    }
   ],
   "source": [
    "plt.plot(M, price)\n",
    "plt.axhline(y=17.01, color='red')\n",
    "plt.ylim([14,23])"
   ]
  },
  {
   "cell_type": "markdown",
   "metadata": {},
   "source": [
    "# M1 + M2"
   ]
  },
  {
   "cell_type": "code",
   "execution_count": 19,
   "metadata": {},
   "outputs": [
    {
     "data": {
      "text/plain": [
       "0.47620506908959126"
      ]
     },
     "execution_count": 19,
     "metadata": {},
     "output_type": "execute_result"
    }
   ],
   "source": [
    "sigma=0.2\n",
    "r=0.05\n",
    "dt=0.1\n",
    "u = np.exp(sigma*np.sqrt(dt))\n",
    "d = np.exp(-sigma*np.sqrt(dt))\n",
    "p=(np.exp(r*dt)-d)/(u-d)\n",
    "1-p"
   ]
  },
  {
   "cell_type": "code",
   "execution_count": 3,
   "metadata": {},
   "outputs": [],
   "source": [
    "# option price\n",
    "def option_pricing_binary_tree(\n",
    "    S0=100, K=90, u=1.2, d=0.8, sigma=0, T=2, N=2, r=0, opttype='C', opt='American', M=10\n",
    "    ):\n",
    "    dt = T/N # define dt\n",
    "    if sigma > 0:\n",
    "        u = np.exp(sigma*np.sqrt(dt))\n",
    "        d = np.exp(-sigma*np.sqrt(dt))\n",
    "    S = np.zeros([N+1,N+1])\n",
    "    C = np.zeros([N+1,N+1])\n",
    "    delta = np.zeros([N,N])\n",
    "    p = (np.exp(r*dt)-d)/(u-d)\n",
    "    # print(p)\n",
    "\n",
    "    if opt=='European':\n",
    "        for i in range(N+1):\n",
    "            S[N,i] = S0*(u**i)*(d**(N-i))\n",
    "            if opttype=='C':\n",
    "                C[N,i] = max(S[N,i]-K,0)\n",
    "            elif opttype=='P':\n",
    "                C[N,i] = max(K-S[N,i],0)\n",
    "        for j in range(N-1, -1, -1):\n",
    "            for i in range(j+1):\n",
    "                S[j,i] = S0*(u**i)*(d**(j-i))\n",
    "                C[j,i] = np.exp(-r*dt)*(p*C[j+1,i+1] + (1-p)*C[j+1,i])\n",
    "                delta[j,i] = (C[j+1,i+1]-C[j+1,i])/(S[j+1,i+1]-S[j+1,i])    \n",
    "\n",
    "    elif opt=='American':\n",
    "        for i in range(N+1):\n",
    "            S[N,i] = S0*(u**i)*(d**(N-i))\n",
    "            if opttype=='C':\n",
    "                C[N,i] = max(S[N,i]-K,0)\n",
    "            elif opttype=='P':\n",
    "                C[N,i] = max(K-S[N,i],0)\n",
    "        for j in range(N-1, -1, -1):\n",
    "            for i in range(j+1):\n",
    "                S[j,i] = S0*(u**i)*(d**(j-i))\n",
    "                C[j,i] = np.exp(-r*dt)*(p*C[j+1,i+1] + (1-p)*C[j+1,i])\n",
    "                if opttype=='C':\n",
    "                    C[j,i] = max(S[j,i]-K,C[j,i])\n",
    "                elif opttype=='P':\n",
    "                    C[j,i] = max(K-S[j,i],C[j,i])\n",
    "                delta[j,i] = (C[j+1,i+1]-C[j+1,i])/(S[j+1,i+1]-S[j+1,i])\n",
    "    \n",
    "    elif opt=='MC':\n",
    "        S = np.zeros([M,N+1])\n",
    "        C = np.zeros([M])\n",
    "        S[:, 0]=S0\n",
    "        for j in range(M):\n",
    "            random = np.random.binomial(1,p,N+1)\n",
    "\n",
    "            for i in range(1, N+1):\n",
    "                if random[i]==1:\n",
    "                    S[j,i] = S[j,i-1]*u\n",
    "                else:\n",
    "                    S[j,i] = S[j,i-1]*d\n",
    "            \n",
    "            C[j] = np.exp(-r*T)*max(S[j,N]-K,0)\n",
    "\n",
    "    return C, S, delta"
   ]
  },
  {
   "cell_type": "code",
   "execution_count": 5,
   "metadata": {},
   "outputs": [],
   "source": [
    "# Put-Call Parity\n",
    "def P_C_Parity(S0=0, K=0, price=0, r=0, T=1, opttype='C'):\n",
    "    if opttype=='C':\n",
    "        price=price+K*np.exp(-r*T)-S0\n",
    "    else:\n",
    "        price=S0+price-K*np.exp(-r*T)\n",
    "    return price"
   ]
  },
  {
   "cell_type": "code",
   "execution_count": 8,
   "metadata": {},
   "outputs": [
    {
     "data": {
      "text/plain": [
       "13.03571894719869"
      ]
     },
     "execution_count": 8,
     "metadata": {},
     "output_type": "execute_result"
    }
   ],
   "source": [
    "C, S_C, delta_call = option_pricing_binary_tree(S0=180, \n",
    "                                         K=182, \n",
    "                                        #  u=1.2,\n",
    "                                        #  d=0.8,\n",
    "                                         sigma=0.25,\n",
    "                                         r=0.02, \n",
    "                                         T=6/12, \n",
    "                                         N=25, \n",
    "                                         opttype='P', \n",
    "                                         opt='American', \n",
    "                                         M=15000)\n",
    "C[0,0]"
   ]
  },
  {
   "cell_type": "code",
   "execution_count": 10,
   "metadata": {},
   "outputs": [],
   "source": [
    "P, S_P, delta_put = option_pricing_binary_tree(S0=100, \n",
    "                                         K=100, \n",
    "                                        #  u=1.2,\n",
    "                                        #  d=0.8,\n",
    "                                         sigma=0.2,\n",
    "                                         r=0.05, \n",
    "                                         T=3/12, \n",
    "                                         N=50, \n",
    "                                         opttype='P', \n",
    "                                         opt='American', \n",
    "                                         M=15000)\n"
   ]
  },
  {
   "cell_type": "code",
   "execution_count": 11,
   "metadata": {},
   "outputs": [
    {
     "name": "stdout",
     "output_type": "stream",
     "text": [
      "0.56911969908816\n",
      "-0.45026215338656067\n"
     ]
    }
   ],
   "source": [
    "print(delta_call[0,0])\n",
    "print(delta_put[0,0])"
   ]
  },
  {
   "cell_type": "code",
   "execution_count": 43,
   "metadata": {},
   "outputs": [
    {
     "data": {
      "text/plain": [
       "array([ 57.5,  27.5,  -5.2, -99.6])"
      ]
     },
     "execution_count": 43,
     "metadata": {},
     "output_type": "execute_result"
    }
   ],
   "source": [
    "def cf(S, C, delta, N=S.shape[0], path=np.array([1,-1,1,1])):\n",
    "    path1=path.cumsum()\n",
    "    path1[0]=0\n",
    "    deltapadded=np.pad(delta, ((0,1),(0,1)))\n",
    "\n",
    "    s=np.zeros([N])\n",
    "    c=np.zeros([N])\n",
    "    array_delta=np.zeros([N])\n",
    "    value=np.zeros([N])\n",
    "    cf=np.zeros([N])\n",
    "\n",
    "    for i,j in zip(range(1,S.shape[0]+1),path1):\n",
    "        s[i-1]=S[i-1,j]\n",
    "        c[i-1]=C[i-1,j]\n",
    "        array_delta[i-1]=deltapadded[i-1,j]\n",
    "        cf[i-1]=(-array_delta[i-1]+array_delta[i-2])*s[i-1]\n",
    "    cf[-1]=cf[-1]-c[-1]\n",
    "    \n",
    "    return cf\n",
    "\n",
    "cf(S, C, delta)"
   ]
  },
  {
   "cell_type": "code",
   "execution_count": 45,
   "metadata": {},
   "outputs": [
    {
     "name": "stdout",
     "output_type": "stream",
     "text": [
      "10 4 -11 4\n",
      "7\n",
      "10 3 -10 4\n",
      "7\n"
     ]
    }
   ],
   "source": [
    "def payoff(K):\n",
    "    n1=K-1\n",
    "    n2=K+1\n",
    "    for S in range(n1,n2):\n",
    "        if S >= K:\n",
    "            C=10-(S-K)\n",
    "            P=3\n",
    "        if S < K:\n",
    "            C=10\n",
    "            P=3-(S-K)\n",
    "        S=-70+S\n",
    "        B=64-K\n",
    "        print(C,P,S,B)\n",
    "        payoff = C+P+S+B\n",
    "        # if payoff < 0:\n",
    "        print(payoff)\n",
    "    \n",
    "payoff(K=60)\n"
   ]
  },
  {
   "cell_type": "code",
   "execution_count": 152,
   "metadata": {},
   "outputs": [
    {
     "data": {
      "text/plain": [
       "array([[100. ,   0. ,   0. ,   0. ],\n",
       "       [220. ,  80. ,   0. ,   0. ],\n",
       "       [344. , 146. ,  64. ,   0. ],\n",
       "       [118.2, 107.6,  82.6,  51.2]])"
      ]
     },
     "execution_count": 152,
     "metadata": {},
     "output_type": "execute_result"
    }
   ],
   "source": [
    "def asian_put_binomial_tree(S0, K, T, r, sigma, N):\n",
    "  #create a matrix to hold the stock prices\n",
    "    stock_price = np.zeros((N+1, N+1))\n",
    "    dt = T/N\n",
    "    # u = np.exp(sigma * np.sqrt(dt))\n",
    "    u=1.2\n",
    "    d=0.8\n",
    "    # d = 1 / u\n",
    "    p = (np.exp(r * dt) - d) / (u - d)\n",
    "\n",
    "  # Initialize the first column with the initial stock price\n",
    "    stock_price[0, 0] = S0\n",
    "\n",
    "    # Populate the stock price tree\n",
    "    for i in range(1, N+1):\n",
    "        stock_price[i, 0] = stock_price[i-1, 0] * u\n",
    "        for j in range(1, i+1):\n",
    "            stock_price[i, j] = stock_price[i-1, j-1] * d\n",
    "\n",
    "    # Create a matrix to hold the option values\n",
    "    option_value = np.zeros((N+1, N+1))\n",
    "    avg_price = np.zeros((N+1, N+1))\n",
    "    delta = np.zeros((N+1, N+1))\n",
    "\n",
    "    # Calculate the option value at maturity\n",
    "    for j in range(N+1):\n",
    "        avg_price[N, j] = (S0 * (N - j) + stock_price[N, j] * (j + 1)) / (N + 1)\n",
    "        option_value[N, j] = max(K - avg_price[N, j], 0)\n",
    "\n",
    "    # Backward induction to determine the option value at each node\n",
    "    for i in range(N-1, -1, -1):\n",
    "        for j in range(i+1):\n",
    "            avg_price[i, j] = (S0 * (i - j) + stock_price[i, j] * (j + 1)) / (j + 1)\n",
    "            option_value[i, j] = np.exp(-r * dt) * (p * option_value[i+1, j] + (1-p) * option_value[i+1, j+1])\n",
    "\n",
    "            # Calculate delta\n",
    "            delta[i, j] = (option_value[i+1, j] - option_value[i+1, j+1]) / (stock_price[i+1, j] - stock_price[i+1, j+1])\n",
    "\n",
    "    return option_value, avg_price, delta\n",
    "\n",
    "option_value, avg_price, delta = asian_put_binomial_tree(S0=100, K=90, T=1, r=0.02, sigma=0.25, N=3)\n",
    "\n",
    "avg_price"
   ]
  },
  {
   "cell_type": "code",
   "execution_count": 194,
   "metadata": {},
   "outputs": [
    {
     "data": {
      "text/plain": [
       "array([0., 1., 0., 1., 0., 1., 0., 1.])"
      ]
     },
     "execution_count": 194,
     "metadata": {},
     "output_type": "execute_result"
    }
   ],
   "source": [
    "N=3\n",
    "# vec = np.zeros((2**N))\n",
    "# for i in range(2**N):\n",
    "def vec(N):\n",
    "    \"\"\"\n",
    "    array shape 2**N should repeat number of elements 2**i times\n",
    "    \"\"\"\n",
    "    vec = np.zeros((2**N))\n",
    "    for j in range(N):\n",
    "        for i in range(2**N):\n",
    "            vec[i] = i%2\n",
    "        \n",
    "    return vec\n",
    "\n",
    "vec(N)\n",
    "    "
   ]
  },
  {
   "cell_type": "code",
   "execution_count": 225,
   "metadata": {},
   "outputs": [
    {
     "data": {
      "text/plain": [
       "array([[0. , 0. , 0. , 0.8, 1.2, 0. , 0. , 0. ],\n",
       "       [0. , 0. , 0.8, 0.8, 1.2, 1.2, 0. , 0. ],\n",
       "       [0.8, 0.8, 0.8, 0.8, 1.2, 1.2, 1.2, 1.2]])"
      ]
     },
     "execution_count": 225,
     "metadata": {},
     "output_type": "execute_result"
    }
   ],
   "source": [
    "N=3\n",
    "u=1.2\n",
    "d=0.8\n",
    "vec_up = np.zeros([N,2**N])\n",
    "for j in range(N):\n",
    "    for i in range(2**j):\n",
    "        vec_up[j,i] = u\n",
    "vec_up\n",
    "\n",
    "vec_down = np.zeros([N,2**N])\n",
    "for j in range(N):\n",
    "    for i in range(-2**j,0,1):\n",
    "        vec_down[j,i] = d\n",
    "vec_down\n",
    "\n",
    "np.concatenate((vec_down[:,4:],vec_up[:,:4]), axis=1)"
   ]
  },
  {
   "cell_type": "code",
   "execution_count": 227,
   "metadata": {},
   "outputs": [
    {
     "data": {
      "text/plain": [
       "array([[1.2, 0. , 0. , 0. , 0. , 0. , 0. , 0.8],\n",
       "       [1.2, 1.2, 0. , 0. , 0. , 0. , 0.8, 0.8],\n",
       "       [1.2, 1.2, 1.2, 1.2, 0.8, 0.8, 0.8, 0.8]])"
      ]
     },
     "execution_count": 227,
     "metadata": {},
     "output_type": "execute_result"
    }
   ],
   "source": [
    "N=3\n",
    "u=1.2\n",
    "d=0.8\n",
    "vec_up = np.zeros([N,2**N])\n",
    "for j in range(N):\n",
    "    for i in range(2**j):\n",
    "        vec_up[j,i] = u\n",
    "        vec_up[j,-i-1] = d\n",
    "\n",
    "vec_up"
   ]
  },
  {
   "cell_type": "code",
   "execution_count": 298,
   "metadata": {},
   "outputs": [
    {
     "data": {
      "text/plain": [
       "(array([[ 90.        ,  90.        , 110.        , 110.        ],\n",
       "        [ 81.33333333,  92.        , 105.33333333, 121.33333333]]),\n",
       " array([[ 0.        ,  0.        , 20.        , 20.        ],\n",
       "        [ 0.        ,  2.        , 15.33333333, 31.33333333]]))"
      ]
     },
     "execution_count": 298,
     "metadata": {},
     "output_type": "execute_result"
    }
   ],
   "source": [
    "def asian(S0, K, N, u, d, r, T):\n",
    "    dt = T / N\n",
    "    # u = np.exp(sigma * np.sqrt(dt))\n",
    "    # d = 1 / u\n",
    "    p = (np.exp(r * dt) - d) / (u - d)\n",
    "    \n",
    "    stock=np.zeros((N,2**N))\n",
    "    vec_up = np.zeros([2**N])\n",
    "\n",
    "    for j in range(1,N):\n",
    "        vec_up = np.zeros([2**j])\n",
    "        for i in range(2**(j+1)//2):\n",
    "            vec_up[i]=u\n",
    "            vec_up[-i-1]=d\n",
    "        vec_up = np.tile(vec_up, 2**(N-j))\n",
    "        stock[N-j]=vec_up\n",
    "\n",
    "    for i in range(2**N):\n",
    "        if i <= 2**N//2-1:\n",
    "            stock[0,i]=d\n",
    "        else:\n",
    "            stock[0,i]=u\n",
    "\n",
    "    stock = np.cumprod(stock, axis=0)*100\n",
    "    stock = np.cumsum(stock, axis=0)+100\n",
    "\n",
    "    for i in range(0,N):\n",
    "        stock[i]=stock[i]/(i+2)\n",
    "\n",
    "    payoff = np.maximum(0, stock-K)\n",
    "\n",
    "    return stock,payoff\n",
    "\n",
    "\n",
    "asian(S0=100, K=90, N=2, u=1.2, d=0.8, r=0, T=1)"
   ]
  },
  {
   "cell_type": "code",
   "execution_count": 296,
   "metadata": {},
   "outputs": [
    {
     "ename": "TypeError",
     "evalue": "'numpy.float64' object is not callable",
     "output_type": "error",
     "traceback": [
      "\u001b[1;31m---------------------------------------------------------------------------\u001b[0m",
      "\u001b[1;31mTypeError\u001b[0m                                 Traceback (most recent call last)",
      "\u001b[1;32md:\\OneDrive - y62x2\\Invest\\MScFE\\Course 4 Derivative Pricing\\Derivative Pricing.ipynb Cell 63\u001b[0m line \u001b[0;36m3\n\u001b[0;32m     <a href='vscode-notebook-cell:/d%3A/OneDrive%20-%20y62x2/Invest/MScFE/Course%204%20Derivative%20Pricing/Derivative%20Pricing.ipynb#Y154sZmlsZQ%3D%3D?line=26'>27</a>\u001b[0m stock\n\u001b[0;32m     <a href='vscode-notebook-cell:/d%3A/OneDrive%20-%20y62x2/Invest/MScFE/Course%204%20Derivative%20Pricing/Derivative%20Pricing.ipynb#Y154sZmlsZQ%3D%3D?line=28'>29</a>\u001b[0m \u001b[39mfor\u001b[39;00m i \u001b[39min\u001b[39;00m \u001b[39mrange\u001b[39m(\u001b[39m-\u001b[39mN, \u001b[39m-\u001b[39m\u001b[39m1\u001b[39m, \u001b[39m1\u001b[39m):\n\u001b[1;32m---> <a href='vscode-notebook-cell:/d%3A/OneDrive%20-%20y62x2/Invest/MScFE/Course%204%20Derivative%20Pricing/Derivative%20Pricing.ipynb#Y154sZmlsZQ%3D%3D?line=29'>30</a>\u001b[0m     \u001b[39mprint\u001b[39;49m(stock[i])\n",
      "\u001b[1;31mTypeError\u001b[0m: 'numpy.float64' object is not callable"
     ]
    }
   ],
   "source": [
    "N=3\n",
    "u=1.2\n",
    "d=0.8\n",
    "stock=np.zeros((N,2**N))\n",
    "vec_up = np.zeros([2**N])\n",
    "\n",
    "for j in range(1,N):\n",
    "    vec_up = np.zeros([2**j])\n",
    "    for i in range(2**(j+1)//2):\n",
    "        vec_up[i]=u\n",
    "        vec_up[-i-1]=d\n",
    "    vec_up = np.tile(vec_up, 2**(N-j))\n",
    "    stock[N-j]=vec_up\n",
    "\n",
    "for i in range(2**N):\n",
    "    if i <= 2**N//2-1:\n",
    "        stock[0,i]=d\n",
    "    else:\n",
    "        stock[0,i]=u\n",
    "\n",
    "stock = np.cumprod(stock, axis=0)*100\n",
    "stock = np.cumsum(stock, axis=0)+100\n",
    "\n",
    "for i in range(0,N):\n",
    "    stock[i]=stock[i]/(i+2)\n",
    "\n",
    "stock\n",
    "\n",
    "for i in range(-N, -1, 1):\n",
    "    print(stock[i])"
   ]
  },
  {
   "cell_type": "code",
   "execution_count": 128,
   "metadata": {},
   "outputs": [
    {
     "data": {
      "text/plain": [
       "array([[100. ,   0. ,   0. ,   0. ,   0. ,   0. ,   0. ,   0. ],\n",
       "       [ 80. , 120. , 120. , 270. , 270. , 607.5, 607.5,   0. ],\n",
       "       [ 64. ,  96. ,  96. , 216. , 216. , 486. , 486. ,   0. ],\n",
       "       [ 51.2,  76.8,  76.8, 172.8, 172.8, 388.8, 388.8, 172.8]])"
      ]
     },
     "execution_count": 128,
     "metadata": {},
     "output_type": "execute_result"
    }
   ],
   "source": [
    "u=1.2\n",
    "d=0.8\n",
    "N=3\n",
    "S0=100\n",
    "stock = np.zeros([N+1,2**N])\n",
    "stock[0,0] = S0\n",
    "for i in range(1,N+1):\n",
    "    for j in range(2**N-2,-1,-1):\n",
    "        stock[i,j] = S0*u**(j)*d**(i-j)\n",
    "        if j % 2 == 1:\n",
    "            stock[i,j+1] = S0*u**(j)*d**(i-j)\n",
    "stock[-1,-1] = S0*u**(N)\n",
    "stock\n",
    "\n",
    "# avg_price = np.zeros([N+1,2**N])\n",
    "# avg_price_asian = np.zeros([N+1,2**N])\n",
    "# avg_price[0,0] = S0\n",
    "# avg_price_asian[0,0] = S0\n",
    "# for i in range(1,N+1):\n",
    "        \n",
    "#     for j in range(i+1):\n",
    "#         print(j)\n",
    "#         avg = avg_price[i-1,j]\n",
    "#         avg_price[i,j] = (avg+stock[i,j])\n",
    "#         avg_price_asian[i,j] = avg_price[i,j]/(i+1)\n",
    "#         print(avg_price)\n",
    "#         # print(avg_price_asian)\n",
    "\n",
    "# avg_price[2,0]/3"
   ]
  },
  {
   "cell_type": "markdown",
   "metadata": {},
   "source": [
    "# M3"
   ]
  },
  {
   "cell_type": "markdown",
   "metadata": {},
   "source": [
    "* Arbitrage free  \n",
    "$p_u+p_d+p_m=1$  \n",
    "$S_0=e^{-rdt}(p_u*S_u+p_m*S_m+p_d*S_d)$"
   ]
  },
  {
   "cell_type": "markdown",
   "metadata": {},
   "source": [
    "* Matching Var:  \n",
    "$E(Var(S_{t+1}|K))=Var(S_t)$  \n",
    "$u=\\frac{1}{d}$    $m=1$    \n",
    "$u=e^{\\sigma\\sqrt{2dt}}$  \n",
    "$d=e^{-\\sigma\\sqrt{2dt}}$  \n",
    "$p_u=(\\frac{e^{r\\frac{dt}{2}}-e^{-\\sigma\\sqrt{\\frac{dt}{2}}}}{e^{\\sigma\\sqrt{\\frac{dt}{2}}}-e^{-\\sigma\\sqrt{\\frac{dt}{2}}}})^2$  \n",
    "$p_d=(\\frac{-e^{r\\frac{dt}{2}}+e^{\\sigma\\sqrt{\\frac{dt}{2}}}}{e^{\\sigma\\sqrt{\\frac{dt}{2}}}-e^{-\\sigma\\sqrt{\\frac{dt}{2}}}})^2$  \n",
    "$p_m=1-p_u-p_d$"
   ]
  },
  {
   "cell_type": "code",
   "execution_count": 183,
   "metadata": {},
   "outputs": [],
   "source": [
    "class TrinomialOptions:\n",
    "    def __init__(self, S0, sigma, r, T, strike_price=None):\n",
    "        self.S0 = S0\n",
    "        self.sigma = sigma\n",
    "        self.r = r\n",
    "        self.T = T\n",
    "        self.K = strike_price\n",
    "    \n",
    "    def _compute_probs(self, h):      \n",
    "        self.pu = (\n",
    "            (\n",
    "                np.exp(self.r*h/2) - np.exp(-self.sigma*np.sqrt(h/2))\n",
    "                )/\n",
    "            (\n",
    "                np.exp(self.sigma*np.sqrt(h/2))-np.exp(-self.sigma*np.sqrt(h/2))\n",
    "                )\n",
    "            )**2\n",
    "        self.pd = (\n",
    "            (\n",
    "                -np.exp(self.r*h/2) + np.exp(self.sigma*np.sqrt(h/2))\n",
    "                )/\n",
    "            (\n",
    "                np.exp(self.sigma*np.sqrt(h/2))-np.exp(-self.sigma*np.sqrt(h/2))\n",
    "                )\n",
    "            )**2\n",
    "        self.pm = 1-self.pu-self.pd\n",
    "\n",
    "        # print(self.pu, self.pd, self.pm)\n",
    "\n",
    "    def _vec_stock_price(self, h, nb):\n",
    "        up = np.exp(self.sigma*np.sqrt(2*h))\n",
    "        down = 1/up\n",
    "        vec_u = up * np.ones(nb)\n",
    "        np.cumprod(vec_u, out=vec_u)\n",
    "        vec_d = down * np.ones(nb)\n",
    "        np.cumprod(vec_d, out=vec_d)\n",
    "        res = np.concatenate((vec_d[::-1],[1.0],vec_u))\n",
    "        return res*self.S0\n",
    "\n",
    "    def _payoff(self, stock_vec, opttype):\n",
    "        if opttype == 'call':\n",
    "            return np.maximum(stock_vec - self.K, 0.0)\n",
    "        elif opttype == 'put':\n",
    "            return np.maximum(self.K - stock_vec, 0.0)\n",
    "        else:\n",
    "            raise ValueError('opttype must be call or put')\n",
    "\n",
    "    def _current_option_price(self, current_vec, nxt_vec, opt=None, opttype=None):\n",
    "        expectation = np.zeros(current_vec.size)\n",
    "\n",
    "        for i in range(current_vec.size):\n",
    "            tmp = nxt_vec[i] * self.pd\n",
    "            tmp += nxt_vec[i+1] * self.pm\n",
    "            tmp += nxt_vec[i+2] * self.pu\n",
    "\n",
    "            expectation[i] = tmp\n",
    "\n",
    "        discounted_expectations = expectation * self.discount\n",
    "\n",
    "        if opt==True:\n",
    "            exersice_value = self._payoff(current_vec, opttype)\n",
    "            return np.maximum(discounted_expectations, exersice_value)\n",
    "        else:\n",
    "            return discounted_expectations\n",
    "\n",
    "\n",
    "    def price(self, nb, opt=None, opttype=None):\n",
    "        h = self.T/nb\n",
    "        self._compute_probs(h)\n",
    "        self.discount = np.exp(-self.r*h)\n",
    "        final_vec = self._vec_stock_price(h, nb)\n",
    "        final_payoff = self._payoff(stock_vec=final_vec, opttype=None)\n",
    "        print(final_payoff)\n",
    "        nxt_vec = final_payoff\n",
    "        for i in range(1, nb+1):\n",
    "            current_vec = self._vec_stock_price(h, nb-i)\n",
    "            nxt_vec = self._current_option_price(current_vec, nxt_vec, opt, opttype)\n",
    "        \n",
    "        return nxt_vec[0]           \n",
    "        \n",
    "\n",
    "# K = [100*i for i in np.arange(0,1.2,0.1)]\n",
    "# AC2 = []\n",
    "# EC2 = []\n",
    "# for k in K:\n",
    "#     American_Call = TrinomialOptions(S0=100.0, r=0.05, sigma=0.2, T=3/12, strike_price=k).price(5, opttype='put', opt=True)\n",
    "#     European_Call = TrinomialOptions(S0=100.0, r=0.05, sigma=0.2, T=3/12, strike_price=k).price(5, opttype='put', opt=False)\n",
    "#     AC2.append(American_Call)\n",
    "#     EC2.append(European_Call)"
   ]
  },
  {
   "cell_type": "code",
   "execution_count": 184,
   "metadata": {},
   "outputs": [
    {
     "ename": "ValueError",
     "evalue": "opttype must be call or put",
     "output_type": "error",
     "traceback": [
      "\u001b[1;31m---------------------------------------------------------------------------\u001b[0m",
      "\u001b[1;31mValueError\u001b[0m                                Traceback (most recent call last)",
      "\u001b[1;32md:\\OneDrive - y62x2\\Invest\\MScFE\\Course 4 Derivative Pricing\\Derivative Pricing.ipynb Cell 59\u001b[0m line \u001b[0;36m1\n\u001b[1;32m----> <a href='vscode-notebook-cell:/d%3A/OneDrive%20-%20y62x2/Invest/MScFE/Course%204%20Derivative%20Pricing/Derivative%20Pricing.ipynb#Y165sZmlsZQ%3D%3D?line=0'>1</a>\u001b[0m TrinomialOptions(S0\u001b[39m=\u001b[39;49m\u001b[39m100.0\u001b[39;49m, r\u001b[39m=\u001b[39;49m\u001b[39m0.05\u001b[39;49m, sigma\u001b[39m=\u001b[39;49m\u001b[39m0.2\u001b[39;49m, T\u001b[39m=\u001b[39;49m\u001b[39m3\u001b[39;49m\u001b[39m/\u001b[39;49m\u001b[39m12\u001b[39;49m, strike_price\u001b[39m=\u001b[39;49m\u001b[39m100\u001b[39;49m)\u001b[39m.\u001b[39;49mprice(\u001b[39m3\u001b[39;49m, opttype\u001b[39m=\u001b[39;49m\u001b[39m'\u001b[39;49m\u001b[39mcall\u001b[39;49m\u001b[39m'\u001b[39;49m, opt\u001b[39m=\u001b[39;49m\u001b[39mTrue\u001b[39;49;00m)\n",
      "\u001b[1;32md:\\OneDrive - y62x2\\Invest\\MScFE\\Course 4 Derivative Pricing\\Derivative Pricing.ipynb Cell 59\u001b[0m line \u001b[0;36m7\n\u001b[0;32m     <a href='vscode-notebook-cell:/d%3A/OneDrive%20-%20y62x2/Invest/MScFE/Course%204%20Derivative%20Pricing/Derivative%20Pricing.ipynb#Y165sZmlsZQ%3D%3D?line=69'>70</a>\u001b[0m \u001b[39mself\u001b[39m\u001b[39m.\u001b[39mdiscount \u001b[39m=\u001b[39m np\u001b[39m.\u001b[39mexp(\u001b[39m-\u001b[39m\u001b[39mself\u001b[39m\u001b[39m.\u001b[39mr\u001b[39m*\u001b[39mh)\n\u001b[0;32m     <a href='vscode-notebook-cell:/d%3A/OneDrive%20-%20y62x2/Invest/MScFE/Course%204%20Derivative%20Pricing/Derivative%20Pricing.ipynb#Y165sZmlsZQ%3D%3D?line=70'>71</a>\u001b[0m final_vec \u001b[39m=\u001b[39m \u001b[39mself\u001b[39m\u001b[39m.\u001b[39m_vec_stock_price(h, nb)\n\u001b[1;32m---> <a href='vscode-notebook-cell:/d%3A/OneDrive%20-%20y62x2/Invest/MScFE/Course%204%20Derivative%20Pricing/Derivative%20Pricing.ipynb#Y165sZmlsZQ%3D%3D?line=71'>72</a>\u001b[0m final_payoff \u001b[39m=\u001b[39m \u001b[39mself\u001b[39;49m\u001b[39m.\u001b[39;49m_payoff(stock_vec\u001b[39m=\u001b[39;49mfinal_vec, opttype\u001b[39m=\u001b[39;49m\u001b[39mNone\u001b[39;49;00m)\n\u001b[0;32m     <a href='vscode-notebook-cell:/d%3A/OneDrive%20-%20y62x2/Invest/MScFE/Course%204%20Derivative%20Pricing/Derivative%20Pricing.ipynb#Y165sZmlsZQ%3D%3D?line=72'>73</a>\u001b[0m \u001b[39mprint\u001b[39m(final_payoff)\n\u001b[0;32m     <a href='vscode-notebook-cell:/d%3A/OneDrive%20-%20y62x2/Invest/MScFE/Course%204%20Derivative%20Pricing/Derivative%20Pricing.ipynb#Y165sZmlsZQ%3D%3D?line=73'>74</a>\u001b[0m nxt_vec \u001b[39m=\u001b[39m final_payoff\n",
      "\u001b[1;32md:\\OneDrive - y62x2\\Invest\\MScFE\\Course 4 Derivative Pricing\\Derivative Pricing.ipynb Cell 59\u001b[0m line \u001b[0;36m4\n\u001b[0;32m     <a href='vscode-notebook-cell:/d%3A/OneDrive%20-%20y62x2/Invest/MScFE/Course%204%20Derivative%20Pricing/Derivative%20Pricing.ipynb#Y165sZmlsZQ%3D%3D?line=43'>44</a>\u001b[0m     \u001b[39mreturn\u001b[39;00m np\u001b[39m.\u001b[39mmaximum(\u001b[39mself\u001b[39m\u001b[39m.\u001b[39mK \u001b[39m-\u001b[39m stock_vec, \u001b[39m0.0\u001b[39m)\n\u001b[0;32m     <a href='vscode-notebook-cell:/d%3A/OneDrive%20-%20y62x2/Invest/MScFE/Course%204%20Derivative%20Pricing/Derivative%20Pricing.ipynb#Y165sZmlsZQ%3D%3D?line=44'>45</a>\u001b[0m \u001b[39melse\u001b[39;00m:\n\u001b[1;32m---> <a href='vscode-notebook-cell:/d%3A/OneDrive%20-%20y62x2/Invest/MScFE/Course%204%20Derivative%20Pricing/Derivative%20Pricing.ipynb#Y165sZmlsZQ%3D%3D?line=45'>46</a>\u001b[0m     \u001b[39mraise\u001b[39;00m \u001b[39mValueError\u001b[39;00m(\u001b[39m'\u001b[39m\u001b[39mopttype must be call or put\u001b[39m\u001b[39m'\u001b[39m)\n",
      "\u001b[1;31mValueError\u001b[0m: opttype must be call or put"
     ]
    }
   ],
   "source": [
    "TrinomialOptions(S0=100.0, r=0.05, sigma=0.2, T=3/12, strike_price=100).price(3, opttype='call', opt=True)"
   ]
  },
  {
   "cell_type": "code",
   "execution_count": 182,
   "metadata": {},
   "outputs": [
    {
     "name": "stdout",
     "output_type": "stream",
     "text": [
      "[21.72555227 15.06630699  7.84052246  0.          0.          0.\n",
      "  0.        ]\n"
     ]
    },
    {
     "data": {
      "text/plain": [
       "3.3035341563892002"
      ]
     },
     "execution_count": 182,
     "metadata": {},
     "output_type": "execute_result"
    }
   ],
   "source": [
    "TrinomialModel(S0=100.0, r=0.05, sigma=0.2, T=3/12).price(3, strike_price=100, option_type='put', is_american=True)"
   ]
  },
  {
   "cell_type": "code",
   "execution_count": 150,
   "metadata": {},
   "outputs": [
    {
     "data": {
      "text/plain": [
       "[98.5111221243042,\n",
       " 88.63534411936541,\n",
       " 78.75956611442658,\n",
       " 68.8837881094878,\n",
       " 59.008010104548994,\n",
       " 49.13223209961039,\n",
       " 39.256454234316,\n",
       " 29.38102369977272,\n",
       " 19.545839703335947,\n",
       " 10.367317407975252,\n",
       " 3.8013822883159922,\n",
       " 0.8989774179585568]"
      ]
     },
     "execution_count": 150,
     "metadata": {},
     "output_type": "execute_result"
    }
   ],
   "source": [
    "EC2"
   ]
  },
  {
   "cell_type": "code",
   "execution_count": 51,
   "metadata": {},
   "outputs": [],
   "source": [
    "# trinomial\n",
    "def _gen_stock_vec(n,u=0,d=0,sigma=0,N=3,T=1):   \n",
    "    dt=T/N # fixed nb\n",
    "    if sigma!=0:\n",
    "        u=np.exp(sigma*np.sqrt(2*dt))\n",
    "        d=np.exp(-sigma*np.sqrt(2*dt))\n",
    "        \n",
    "    vec_u=u*np.ones(n)\n",
    "    np.cumprod(vec_u, out=vec_u) # u, u^2, u^3 ...\n",
    "\n",
    "    vec_d=d*np.ones(n)\n",
    "    np.cumprod(vec_d, out=vec_d) # u, u^2, u^3 ...\n",
    "\n",
    "    # print(vec_u, vec_d)\n",
    "    \n",
    "    res=np.concatenate(\n",
    "        (vec_d[::-1], [1.0], vec_u)\n",
    "    )\n",
    "    return res"
   ]
  },
  {
   "cell_type": "code",
   "execution_count": 193,
   "metadata": {},
   "outputs": [],
   "source": [
    "def optionprice(S0=100,K=130,n=1,u=1.2,d=1/1.2,sigma=0.5,r=0,N=3,T=1,opttype='C',opt='European'):\n",
    "    dt=T/N\n",
    "    n=N\n",
    "    pu=((np.exp(r*dt/2)-np.exp(-sigma*np.sqrt(dt/2)))/ \\\n",
    "        (np.exp(sigma*np.sqrt(dt/2))-np.exp(-sigma*np.sqrt(dt/2))))**2\n",
    "    pd=((-np.exp(r*dt/2)+np.exp(sigma*np.sqrt(dt/2)))/ \\\n",
    "        (np.exp(sigma*np.sqrt(dt/2))-np.exp(-sigma*np.sqrt(dt/2))))**2\n",
    "    pm=1-pu-pd\n",
    "\n",
    "    print(pu,pd,pm)\n",
    "    print(u,d)\n",
    "    s = S0*_gen_stock_vec(n=n,u=u,d=d,sigma=sigma,N=N,T=T)\n",
    "    if opttype=='C':\n",
    "        final_payoff=np.maximum(s-K,0)\n",
    "    elif opttype=='P':\n",
    "        final_payoff=np.maximum(K-s,0)\n",
    "\n",
    "    nxt_vec_price=final_payoff\n",
    "\n",
    "    for i in range (1,n+1):\n",
    "        vec_stock= _gen_stock_vec(n=n-i,u=u,d=d,sigma=sigma,N=N,T=T)\n",
    "        expectation=np.zeros(vec_stock.size)\n",
    "\n",
    "        for j in range(expectation.size):\n",
    "            tmp=nxt_vec_price[j]*pd\n",
    "            tmp+=nxt_vec_price[j+1]*pm\n",
    "            tmp+=nxt_vec_price[j+2]*pu\n",
    "\n",
    "            expectation[j]=tmp\n",
    "\n",
    "        nxt_vec_price=np.exp(-r*dt)*expectation\n",
    "\n",
    "    return nxt_vec_price[0]"
   ]
  },
  {
   "cell_type": "code",
   "execution_count": 194,
   "metadata": {},
   "outputs": [
    {
     "name": "stdout",
     "output_type": "stream",
     "text": [
      "0.21397114797870756 0.2888308386662065 0.49719801335508595\n",
      "1.2 0.8333333333333334\n"
     ]
    },
    {
     "data": {
      "text/plain": [
       "17.50162310051333"
      ]
     },
     "execution_count": 194,
     "metadata": {},
     "output_type": "execute_result"
    }
   ],
   "source": [
    "p = optionprice(\n",
    "            S0=100,\n",
    "            K=90,\n",
    "            # n=102,\n",
    "            r=0,\n",
    "            # u=1.2,\n",
    "            # d=1/1.2,\n",
    "            sigma=0.3,\n",
    "            N=2,\n",
    "            T=1,\n",
    "            opttype='C')\n",
    "p"
   ]
  },
  {
   "cell_type": "code",
   "execution_count": 2,
   "metadata": {},
   "outputs": [],
   "source": [
    "class trinomialmodel:\n",
    "    def __init__(self, S0, sigma, r, mat):\n",
    "        self.S0=S0\n",
    "        self.sigma=sigma\n",
    "        self.r=r \n",
    "        self.T=mat \n",
    "\n",
    "    def __compute_probs(self):        \n",
    "        self.pu=(\n",
    "            (np.exp(self.r*self.dt/2)-\n",
    "            np.exp(-self.sigma*np.sqrt(self.dt/2))\n",
    "            )/ \\\n",
    "            (np.exp(self.sigma*np.sqrt(self.dt/2))-\n",
    "            np.exp(-self.sigma*np.sqrt(self.dt/2))\n",
    "            )\n",
    "            )**2\n",
    "        self.pd=(\n",
    "            (-np.exp(self.r*self.dt/2)+\n",
    "            np.exp(self.sigma*np.sqrt(self.dt/2))\n",
    "            )/ \\\n",
    "            (np.exp(self.sigma*np.sqrt(self.dt/2))-\n",
    "            np.exp(-self.sigma*np.sqrt(self.dt/2))\n",
    "            )\n",
    "            )**2\n",
    "        self.pm=1-self.pu-self.pd\n",
    "\n",
    "        assert 0.0<=pu<=1.0, \"Check pu\"\n",
    "        assert 0.0<=pd<=1.0, \"Check pd\"\n",
    "        assert 0.0<=pm<=1.0, \"Check pm\"\n",
    "\n",
    "    def __check_up_values(self, up):\n",
    "        if up is None:\n",
    "            up=np.exp(self.sigma*np.sqrt(2*self.dt))\n",
    "            down=np.exp(-self.sigma*np.sqrt(2*self.dt))\n",
    "        self.u=up\n",
    "        self.d=down\n",
    "\n",
    "    \n",
    "    def __gen_stock_vec(self, n):\n",
    "        vec_u=self.u*np.ones(n)\n",
    "        np.cumprod(vec_u, out=vec_u) # u, u^2, u^3 ...\n",
    "        vec_d=self.d*np.ones(n)\n",
    "        np.cumprod(vec_d, out=vec_d) # u, u^2, u^3 ...\n",
    "        res=np.concatenate(\n",
    "            (vec_d[::-1], [1.0], vec_u)\n",
    "        )\n",
    "        res*=self.S0\n",
    "        return res\n",
    "    \n",
    "    def __payoff(self, stock_vec):\n",
    "        raise NotImplementedError()\n",
    "\n",
    "    def __compute_current_price(self, crt_vec_stock, nxt_vec_prices):\n",
    "        expectation=np.zeros(crt_vec_stock.size)\n",
    "        for i in range(expectation.size):\n",
    "            tmp=nxt_vec_prices[i]*self.pd\n",
    "            tmp+=nxt_vec_prices[i+1]*self.pm\n",
    "            tmp+=nxt_vec_prices[i+2]*self.pu\n",
    "        \n",
    "            expectation[i]=tmp\n",
    "        \n",
    "        return self.discount*expectation\n",
    "\n",
    "    def price(self, nb_steps, up=None):\n",
    "        assert nb_steps>0, \"nb_steps should be >0\"\n",
    "        nb_steps=int(nb_steps)\n",
    "\n",
    "        self.dt=self.T/nb_steps\n",
    "        self.__check_up_values(up)\n",
    "        self.__compute_probs()\n",
    "        self.discount=np.exp(-self.r*self.dt)\n",
    "        final_vec_stock=self.__gen_stock_vec(nb_steps)\n",
    "        final_payoff=self.payoff(final_vec_stock)\n",
    "        nxt_vec_prices=final_payoff\n",
    "\n",
    "        for i in range(1, nb_steps+1):\n",
    "            vec_stock=self.__gen_stock_vec(nb_steps-i)\n",
    "            nxt_vec_prices=self.__compute_current_price(vec_stock,nxt_vec_prices)\n",
    "        \n",
    "        return nxt_vec_prices[0]"
   ]
  },
  {
   "cell_type": "code",
   "execution_count": 3,
   "metadata": {},
   "outputs": [],
   "source": [
    "class trinomial_Callprice(trinomialmodel):\n",
    "    def __init__(self, S0, r, sigma, mat, K):\n",
    "        super(trinomial_Callprice, self).__init__(S0, r, sigma, mat)\n",
    "        self.K=K\n",
    "    \n",
    "    def payoff(self, s):\n",
    "        return np.maximum(s-self.K,0.0)"
   ]
  },
  {
   "cell_type": "code",
   "execution_count": 4,
   "metadata": {},
   "outputs": [],
   "source": [
    "class TrinomialModel(object):\n",
    "    def __init__(self, S0, r, sigma, mat):\n",
    "        self.__S0=S0\n",
    "        self.__r=r\n",
    "        self.__sigma=sigma\n",
    "        self.__T=mat\n",
    "\n",
    "    def __compute_probs(self):\n",
    "        self.__pu=\\\n",
    "            ((np.exp(self.__r*self.__h/2)-np.exp(-self.__sigma*np.sqrt(self.__h/2)))/\n",
    "            (np.exp(self.__sigma*np.sqrt(self.__h/2))-np.exp(-self.__sigma*np.sqrt(self.__h/2))))**2\n",
    "        self.__pd=\\\n",
    "            ((-np.exp(self.__r*self.__h/2)+np.exp(self.__sigma*np.sqrt(self.__h/2)))/\n",
    "            (np.exp(self.__sigma*np.sqrt(self.__h/2))-np.exp(-self.__sigma*np.sqrt(self.__h/2))))**2\n",
    "        self.__pm=1-self.__pu-self.__pd\n",
    "\n",
    "        # print(self.__pu,self.__pm,self.__pd)\n",
    "\n",
    "    def __check_up_values(self, up):\n",
    "        if up is None:\n",
    "            up=np.exp(self.__sigma*np.sqrt(2*self.__h))        \n",
    "        down=1/up\n",
    "        self.__up=up \n",
    "        self.__down=down\n",
    "        # print(self.__up,self.__down)\n",
    "    \n",
    "    def __gen_stock_vec(self, nb):\n",
    "        vec_u=self.__up*np.ones(nb)\n",
    "        np.cumprod(vec_u, out=vec_u)\n",
    "        vec_d=self.__down*np.ones(nb)\n",
    "        np.cumprod(vec_d, out=vec_d)\n",
    "\n",
    "        res=np.concatenate((vec_d[::-1], [1.0], vec_u))\n",
    "        res*=self.__S0\n",
    "\n",
    "        return res\n",
    "    \n",
    "    def payoff(self, stock_vec):\n",
    "        raise NotImplementedError()\n",
    "\n",
    "    def compute_current_price(self, crt_vec_stock, nxt_vec_prices, is_american):\n",
    "        expectation=np.zeros(crt_vec_stock.size)\n",
    "        for i in range(expectation.size):\n",
    "            tmp=nxt_vec_prices[i]*self.__pd\n",
    "            # print(\"tmp up: \",tmp)\n",
    "            tmp+=nxt_vec_prices[i+1]*self.__pm\n",
    "            # print(\"tmp mid: \",tmp)\n",
    "            tmp+=nxt_vec_prices[i+2]*self.__pu\n",
    "            # print(\"tmp down: \",tmp)\n",
    "\n",
    "            expectation[i]=tmp \n",
    "        \n",
    "        discounted_expectation=expectation*self.__discount\n",
    "\n",
    "        if is_american:\n",
    "            excercise_value=self.payoff(stock_vec, is_american)\n",
    "            return np.maximum(crt_vec_stock, discounted_expectation)\n",
    "        else:\n",
    "            return discounted_expectation\n",
    "\n",
    "    def price(self, nb_steps, up=None):\n",
    "        assert nb_steps>0, \"nb_steps needs larger than 0\"\n",
    "        nb_steps=int(nb_steps)\n",
    "\n",
    "        self.__h=self.__T/nb_steps\n",
    "        self.__check_up_values(up)\n",
    "        self.__compute_probs()\n",
    "        self.__discount=np.exp(-self.__r*self.__h)\n",
    "\n",
    "        final_vec_stock=self.__gen_stock_vec(nb_steps)\n",
    "        final_payoff=self.payoff(final_vec_stock)\n",
    "        nxt_vec_prices=final_payoff\n",
    "\n",
    "        for i in range(1, nb_steps+1):\n",
    "            vec_stock=self.__gen_stock_vec(nb_steps-i)\n",
    "            nxt_vec_prices=self.compute_current_price(vec_stock, nxt_vec_prices)\n",
    "            # if i==1:\n",
    "            # print(nxt_vec_prices)\n",
    "\n",
    "        return nxt_vec_prices[0]"
   ]
  },
  {
   "cell_type": "code",
   "execution_count": 134,
   "metadata": {},
   "outputs": [],
   "source": [
    "class TrinomialCall(TrinomialModel):\n",
    "    def __init__(self, S0, r, sigma, mat, K, is_american=False):\n",
    "        super(TrinomialCall, self).__init__(S0, r, sigma, mat)\n",
    "        self.__K=K\n",
    "        self.is_american=False\n",
    "\n",
    "    def payoff(self, s):\n",
    "        return np.maximum(s-self.__K,0.0) #max(S-K,0)\n",
    "\n",
    "class TrinomialPut(TrinomialModel):\n",
    "    def __init__(self, S0, r, sigma, mat, K):\n",
    "        super(TrinomialPut, self).__init__(S0, r, sigma, mat)\n",
    "        self.__K=K\n",
    "\n",
    "    def payoff(self, s):\n",
    "        return np.maximum(self.__K-s,0.0) #max(K-S,0)\n"
   ]
  },
  {
   "cell_type": "code",
   "execution_count": 92,
   "metadata": {},
   "outputs": [],
   "source": [
    "CallEuropean=TrinomialCall(S0=100.0, r=0.0, sigma=0.5, mat=1.0, K=80)\n",
    "PutEuropean=TrinomialPut(S0=100.0, r=0.0, sigma=0.5, mat=1.0, K=80)"
   ]
  },
  {
   "cell_type": "code",
   "execution_count": 129,
   "metadata": {},
   "outputs": [
    {
     "name": "stdout",
     "output_type": "stream",
     "text": [
      "[90.0, 95.0, 100, 105.0, 110.00000000000001]\n",
      "11.391789435945904\n",
      "11.391789435945904\n",
      "7.536803024104905\n",
      "7.536803024104905\n",
      "4.494822387961554\n",
      "4.494822387961554\n",
      "2.4262984472882096\n",
      "2.4262984472882096\n",
      "1.163200305274075\n",
      "1.163200305274075\n"
     ]
    }
   ],
   "source": [
    "model=TrinomialModel_American(100, 0.05, 0.2, 3/12)\n",
    "K = [100*i for i in [0.9, 0.95, 1, 1.05, 1.1]]\n",
    "print(K)\n",
    "model.price(nb_steps=50, strike_price=110, option_type='call', is_american=True)\n",
    "for k in K:\n",
    "    print(model.price(50, k, 'call', True))\n",
    "    print(model.price(50, k, 'call', False))"
   ]
  },
  {
   "cell_type": "code",
   "execution_count": 89,
   "metadata": {},
   "outputs": [],
   "source": [
    "class TrinomialCall_American(TrinomialModel_American):\n",
    "    def __init__(self, S0, r, sigma, mat, K):\n",
    "        super(TrinomialCall_American, self).__init__(S0, r, sigma, mat)\n",
    "        self.__K=K\n",
    "\n",
    "    def payoff(self, s):\n",
    "        return np.maximum(s-self.__K,0.0) #max(S-K,0)\n",
    "\n",
    "class TrinomialPut_American(TrinomialModel_American):\n",
    "    def __init__(self, S0, r, sigma, mat, K):\n",
    "        super(TrinomialPut_American, self).__init__(S0, r, sigma, mat)\n",
    "        self.__K=K\n",
    "\n",
    "    def payoff(self, s):\n",
    "        return np.maximum(self.__K-s,0.0) #max(K-S,0)"
   ]
  },
  {
   "cell_type": "code",
   "execution_count": 46,
   "metadata": {},
   "outputs": [
    {
     "data": {
      "image/png": "[encoded data removed]",
      "text/plain": [
       "<Figure size 640x480 with 1 Axes>"
      ]
     },
     "metadata": {},
     "output_type": "display_data"
    }
   ],
   "source": [
    "import matplotlib.pyplot as plt\n",
    "\n",
    "plt.plot(100*np.arange(0,1.2,0.1), AC, label = \"AC\")\n",
    "plt.plot(100*np.arange(0,1.2,0.1), EC, label = \"EC\")\n",
    "plt.legend(loc=\"upper right\", frameon = True);"
   ]
  },
  {
   "cell_type": "code",
   "execution_count": 171,
   "metadata": {},
   "outputs": [],
   "source": [
    "#Sha\n",
    "class TrinomialModel(object):\n",
    "  def __init__(self, S0, r, sigma, T):\n",
    "    self.__s0 = S0\n",
    "    self.__r = r\n",
    "    self.__sigma = sigma\n",
    "    self.__T = T\n",
    "\n",
    "  def __compute_probs(self, h):\n",
    "    self.__pu = (\n",
    "    (\n",
    "        np.exp(self.__r * h /2) - np.exp(-self.__sigma * np.sqrt(h / 2))\n",
    "    )\n",
    "    /(\n",
    "        np.exp(self.__sigma * np.sqrt(h / 2)) - np.exp(-self.__sigma * np.sqrt(h / 2))\n",
    "    )\n",
    "    ) **2\n",
    "\n",
    "    self.__pd = (\n",
    "        (\n",
    "            -np.exp(self.__r *  h / 2) + np.exp(self.__sigma * np.sqrt(h / 2))\n",
    "        )\n",
    "        / (\n",
    "            np.exp(self.__sigma * np.sqrt(h / 2)) - np.exp(-self.__sigma * np.sqrt(h / 2))\n",
    "        )\n",
    "    )**2\n",
    "\n",
    "    self.__pm = 1 - self.__pu - self.__pd\n",
    "\n",
    "  def __gen_stock_vec(self, nb, h):\n",
    "    up = np.exp(self.__sigma * np.sqrt(2 * h))\n",
    "    down = 1 / up\n",
    "    vec_u = up * np.ones(nb)\n",
    "    np.cumprod(vec_u, out = vec_u)\n",
    "    vec_d = down * np.ones(nb)\n",
    "    np.cumprod(vec_d, out = vec_d)\n",
    "    res = np.concatenate((vec_d[::-1], [1.0], vec_u))\n",
    "    res *= self.__s0\n",
    "    return res\n",
    "\n",
    "  def payoff(self, stock_vec, strike_price, option_type):\n",
    "    if option_type == \"call\":\n",
    "      return np.maximum(stock_vec - strike_price, 0.0)\n",
    "    elif option_type == \"put\":\n",
    "      return np.maximum(strike_price - stock_vec, 0.0)\n",
    "\n",
    "  def compute_current_price(self, crt_vec_stock, nxt_vec_prices, strike_price, option_type, is_american):\n",
    "    expectation = np.zeros(crt_vec_stock.size)\n",
    "    for i in range(expectation.size):\n",
    "      tmp = nxt_vec_prices[i] * self.__pd\n",
    "      tmp += nxt_vec_prices[i+1] * self.__pm\n",
    "      tmp += nxt_vec_prices[i+2] * self.__pu\n",
    "      expectation[i] = tmp\n",
    "\n",
    "    discounted_expectation = np.exp(-self.__r * self.__T / len(crt_vec_stock)) * expectation\n",
    "    if is_american:\n",
    "      exercise_value = self.payoff(crt_vec_stock, strike_price, option_type)\n",
    "      return np.maximum(discounted_expectation, exercise_value)\n",
    "    else:\n",
    "      return discounted_expectation\n",
    "\n",
    "  def price(self, nb_steps, strike_price, option_type, is_american):\n",
    "    h = self.__T / nb_steps\n",
    "    self.__compute_probs(h)\n",
    "    final_vec_stock = self.__gen_stock_vec(nb_steps, h)\n",
    "    final_payoff = self.payoff(final_vec_stock, strike_price, option_type)\n",
    "    print(final_payoff)\n",
    "    nxt_vec_prices = final_payoff\n",
    "    for i in range(1, nb_steps + 1):\n",
    "      vec_stock = self.__gen_stock_vec(nb_steps - i, h)\n",
    "      # pass the american argument\n",
    "      nxt_vec_prices = self.compute_current_price(vec_stock, nxt_vec_prices, strike_price, option_type, is_american)\n",
    "    return nxt_vec_prices[0]"
   ]
  },
  {
   "cell_type": "code",
   "execution_count": null,
   "metadata": {},
   "outputs": [],
   "source": [
    "K = [100*i for i in np.arange(0,1.2,0.1)]\n",
    "AC = []\n",
    "EC = []\n",
    "for k in K:\n",
    "    American_Call = TrinomialModel(S0=100.0, r=0.05, sigma=0.2, T=3/12).price(50, strike_price=k, option_type='call', is_american=True)\n",
    "    European_Call = TrinomialModel(S0=100.0, r=0.05, sigma=0.2, T=3/12).price(50, strike_price=k, option_type='call', is_american=False)\n",
    "    AC.append(American_Call)\n",
    "    EC.append(European_Call)"
   ]
  }
 ],
 "metadata": {
  "kernelspec": {
   "display_name": "Python 3",
   "language": "python",
   "name": "python3"
  },
  "language_info": {
   "codemirror_mode": {
    "name": "ipython",
    "version": 3
   },
   "file_extension": ".py",
   "mimetype": "text/x-python",
   "name": "python",
   "nbconvert_exporter": "python",
   "pygments_lexer": "ipython3",
   "version": "3.11.6"
  }
 },
 "nbformat": 4,
 "nbformat_minor": 2
}
